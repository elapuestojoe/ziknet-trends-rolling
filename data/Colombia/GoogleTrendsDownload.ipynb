{
 "cells": [
  {
   "cell_type": "code",
   "execution_count": 34,
   "metadata": {
    "collapsed": true
   },
   "outputs": [],
   "source": [
    "from pytrends.request import TrendReq\n",
    "import datetime\n",
    "\n",
    "# Login to Google. Only need to run this once, the rest of requests will use the same session.\n",
    "pytrend = TrendReq()"
   ]
  },
  {
   "cell_type": "code",
   "execution_count": 35,
   "metadata": {
    "collapsed": true
   },
   "outputs": [],
   "source": [
    "def getWeeks():\n",
    "\n",
    "    dStart = input(\"Enter date of start epidemiological week in DD-MM-YYYY format: \")\n",
    "    dStart = [int(i) for i in dStart.split(\"-\")]\n",
    "    start = datetime.datetime(dStart[2],dStart[1],dStart[0])\n",
    "    \n",
    "    dEnd = input(\"Enter date of end epidemiological week in DD-MM-YYYY format: \")\n",
    "    dEnd = [int(i) for i in dEnd.split(\"-\")]\n",
    "    end = datetime.datetime(dEnd[2],dEnd[1],dEnd[0])\n",
    "    \n",
    "    nextWeek = getNextWeek(start)\n",
    "    weeks = [start]\n",
    "    \n",
    "    while nextWeek <= end:\n",
    "        if(nextWeek < datetime.datetime.today()):\n",
    "            weeks.append(nextWeek)\n",
    "            nextWeek = getNextWeek(nextWeek)\n",
    "    \n",
    "    return weeks"
   ]
  },
  {
   "cell_type": "code",
   "execution_count": 36,
   "metadata": {
    "collapsed": true
   },
   "outputs": [],
   "source": [
    "def getNextWeek(timeframe):\n",
    "    return timeframe+datetime.timedelta(days=7)"
   ]
  },
  {
   "cell_type": "code",
   "execution_count": 37,
   "metadata": {
    "collapsed": true
   },
   "outputs": [],
   "source": [
    "def getYMD(timeframe):\n",
    "    return \"{}/{}/{}\".format(timeframe.day,timeframe.month,timeframe.year)"
   ]
  },
  {
   "cell_type": "code",
   "execution_count": 38,
   "metadata": {},
   "outputs": [
    {
     "name": "stdout",
     "output_type": "stream",
     "text": [
      "Enter year: 2017\n"
     ]
    }
   ],
   "source": [
    "year = input(\"Enter year: \")"
   ]
  },
  {
   "cell_type": "code",
   "execution_count": 39,
   "metadata": {},
   "outputs": [
    {
     "name": "stdout",
     "output_type": "stream",
     "text": [
      "Enter country code: CO\n"
     ]
    }
   ],
   "source": [
    "countryCode = input(\"Enter country code: \")"
   ]
  },
  {
   "cell_type": "code",
   "execution_count": 40,
   "metadata": {},
   "outputs": [
    {
     "name": "stdout",
     "output_type": "stream",
     "text": [
      "Enter date of start epidemiological week in DD-MM-YYYY format: 01-01-2017\n",
      "Enter date of end epidemiological week in DD-MM-YYYY format: 30-12-2017\n"
     ]
    }
   ],
   "source": [
    "weeks = getWeeks()"
   ]
  },
  {
   "cell_type": "code",
   "execution_count": 42,
   "metadata": {},
   "outputs": [
    {
     "name": "stdout",
     "output_type": "stream",
     "text": [
      "2017-1-1 -> 2017-1-7\n",
      "DONE 2017-01-01 00:00:00\n",
      "2017-1-8 -> 2017-1-14\n",
      "DONE 2017-01-08 00:00:00\n",
      "2017-1-15 -> 2017-1-21\n",
      "DONE 2017-01-15 00:00:00\n",
      "2017-1-22 -> 2017-1-28\n",
      "DONE 2017-01-22 00:00:00\n",
      "2017-1-29 -> 2017-2-4\n",
      "DONE 2017-01-29 00:00:00\n",
      "2017-2-5 -> 2017-2-11\n",
      "DONE 2017-02-05 00:00:00\n",
      "2017-2-12 -> 2017-2-18\n",
      "DONE 2017-02-12 00:00:00\n",
      "2017-2-19 -> 2017-2-25\n",
      "DONE 2017-02-19 00:00:00\n",
      "2017-2-26 -> 2017-3-4\n",
      "DONE 2017-02-26 00:00:00\n",
      "2017-3-5 -> 2017-3-11\n",
      "DONE 2017-03-05 00:00:00\n",
      "2017-3-12 -> 2017-3-18\n",
      "DONE 2017-03-12 00:00:00\n",
      "2017-3-19 -> 2017-3-25\n",
      "DONE 2017-03-19 00:00:00\n",
      "2017-3-26 -> 2017-4-1\n",
      "DONE 2017-03-26 00:00:00\n",
      "2017-4-2 -> 2017-4-8\n",
      "DONE 2017-04-02 00:00:00\n",
      "2017-4-9 -> 2017-4-15\n",
      "DONE 2017-04-09 00:00:00\n",
      "2017-4-16 -> 2017-4-22\n",
      "DONE 2017-04-16 00:00:00\n",
      "2017-4-23 -> 2017-4-29\n",
      "DONE 2017-04-23 00:00:00\n",
      "2017-4-30 -> 2017-5-6\n",
      "DONE 2017-04-30 00:00:00\n",
      "2017-5-7 -> 2017-5-13\n",
      "DONE 2017-05-07 00:00:00\n",
      "2017-5-14 -> 2017-5-20\n",
      "DONE 2017-05-14 00:00:00\n",
      "2017-5-21 -> 2017-5-27\n",
      "DONE 2017-05-21 00:00:00\n",
      "2017-5-28 -> 2017-6-3\n",
      "DONE 2017-05-28 00:00:00\n",
      "2017-6-4 -> 2017-6-10\n",
      "DONE 2017-06-04 00:00:00\n",
      "2017-6-11 -> 2017-6-17\n",
      "DONE 2017-06-11 00:00:00\n",
      "2017-6-18 -> 2017-6-24\n",
      "DONE 2017-06-18 00:00:00\n",
      "2017-6-25 -> 2017-7-1\n",
      "DONE 2017-06-25 00:00:00\n",
      "2017-7-2 -> 2017-7-8\n",
      "DONE 2017-07-02 00:00:00\n",
      "2017-7-9 -> 2017-7-15\n",
      "DONE 2017-07-09 00:00:00\n",
      "2017-7-16 -> 2017-7-22\n",
      "DONE 2017-07-16 00:00:00\n",
      "2017-7-23 -> 2017-7-29\n",
      "DONE 2017-07-23 00:00:00\n",
      "2017-7-30 -> 2017-8-5\n",
      "DONE 2017-07-30 00:00:00\n",
      "2017-8-6 -> 2017-8-12\n",
      "DONE 2017-08-06 00:00:00\n",
      "2017-8-13 -> 2017-8-19\n",
      "DONE 2017-08-13 00:00:00\n",
      "2017-8-20 -> 2017-8-26\n",
      "DONE 2017-08-20 00:00:00\n",
      "2017-8-27 -> 2017-9-2\n",
      "DONE 2017-08-27 00:00:00\n",
      "2017-9-3 -> 2017-9-9\n",
      "DONE 2017-09-03 00:00:00\n",
      "2017-9-10 -> 2017-9-16\n",
      "DONE 2017-09-10 00:00:00\n",
      "2017-9-17 -> 2017-9-23\n",
      "DONE 2017-09-17 00:00:00\n",
      "2017-9-24 -> 2017-9-30\n",
      "DONE 2017-09-24 00:00:00\n",
      "2017-10-1 -> 2017-10-7\n",
      "DONE 2017-10-01 00:00:00\n",
      "2017-10-8 -> 2017-10-14\n",
      "DONE 2017-10-08 00:00:00\n",
      "2017-10-15 -> 2017-10-21\n",
      "DONE 2017-10-15 00:00:00\n",
      "2017-10-22 -> 2017-10-28\n",
      "DONE 2017-10-22 00:00:00\n",
      "2017-10-29 -> 2017-11-4\n",
      "DONE 2017-10-29 00:00:00\n",
      "2017-11-5 -> 2017-11-11\n",
      "DONE 2017-11-05 00:00:00\n",
      "2017-11-12 -> 2017-11-18\n",
      "DONE 2017-11-12 00:00:00\n",
      "2017-11-19 -> 2017-11-25\n",
      "DONE 2017-11-19 00:00:00\n",
      "2017-11-26 -> 2017-12-2\n",
      "DONE 2017-11-26 00:00:00\n",
      "2017-12-3 -> 2017-12-9\n",
      "DONE 2017-12-03 00:00:00\n",
      "2017-12-10 -> 2017-12-16\n",
      "DONE 2017-12-10 00:00:00\n",
      "2017-12-17 -> 2017-12-23\n",
      "DONE 2017-12-17 00:00:00\n",
      "2017-12-24 -> 2017-12-30\n",
      "DONE 2017-12-24 00:00:00\n"
     ]
    }
   ],
   "source": [
    "with open(\"{}/google/{}.csv\".format(year, countryCode), \"w\") as file:\n",
    "    weekEpiArray = []\n",
    "    cities = {}\n",
    "    file.write(\"CITY,\")\n",
    "    file.write(\",\".join(map(getYMD, weeks))+\"\\n\")\n",
    "    for i in range(len(weeks)):\n",
    "        week = weeks[i]\n",
    "        nextWeek = getNextWeek(week)\n",
    "        year = week.year\n",
    "        month = week.month\n",
    "        day = week.day\n",
    "        nextWeekC = nextWeek - datetime.timedelta(days=1)\n",
    "        timeframe = \"{}-{}-{} {}-{}-{}\".format(year,month,day,nextWeekC.year,nextWeekC.month,nextWeekC.day)\n",
    "        print(\"{}-{}-{} -> {}-{}-{}\".format(year,month,day,nextWeekC.year,nextWeekC.month,nextWeekC.day))\n",
    "        pytrend.build_payload(kw_list=['zika'], geo=countryCode, timeframe=timeframe)\n",
    "        results = pytrend.interest_by_region(resolution=\"CITY\")\n",
    "        # if a city's search index is 0 it doesn't appear on results, so we have to keep track of it\n",
    "        tempWeekArray = {}\n",
    "        for index, row in results.iterrows():\n",
    "            tempWeekArray[index] = row[\"zika\"]\n",
    "            if index not in cities:\n",
    "                cities[index] = index #Store in dictionary to get O(1) access\n",
    "        weekEpiArray.append(tempWeekArray)\n",
    "        print(\"DONE\", week)\n",
    "        \n",
    "    # Iterate on weekEpiArray and replace non existent cities with zeroes\n",
    "    searchesByCity = {}\n",
    "    for city in cities:\n",
    "        searchesByCity[city] = []\n",
    "        for week in weekEpiArray:\n",
    "            if city not in week:\n",
    "                searchesByCity[city].append(0)\n",
    "            else:\n",
    "                searchesByCity[city].append(week[city])\n",
    "                \n",
    "    # Finally write to file\n",
    "    for city in sorted(searchesByCity.keys()):\n",
    "        file.write(\"{},\".format(city))\n",
    "        file.write(\",\".join(map(str,searchesByCity[city])))\n",
    "        file.write(\"\\n\")"
   ]
  },
  {
   "cell_type": "code",
   "execution_count": null,
   "metadata": {
    "collapsed": true
   },
   "outputs": [],
   "source": []
  }
 ],
 "metadata": {
  "kernelspec": {
   "display_name": "Python 3",
   "language": "python",
   "name": "python3"
  },
  "language_info": {
   "codemirror_mode": {
    "name": "ipython",
    "version": 3
   },
   "file_extension": ".py",
   "mimetype": "text/x-python",
   "name": "python",
   "nbconvert_exporter": "python",
   "pygments_lexer": "ipython3",
   "version": "3.6.3"
  }
 },
 "nbformat": 4,
 "nbformat_minor": 2
}

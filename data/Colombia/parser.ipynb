{
 "cells": [
  {
   "cell_type": "code",
   "execution_count": 1,
   "metadata": {
    "collapsed": true
   },
   "outputs": [],
   "source": [
    "import pandas\n",
    "\n",
    "folder = \"excel_files\""
   ]
  },
  {
   "cell_type": "code",
   "execution_count": 2,
   "metadata": {
    "collapsed": true
   },
   "outputs": [],
   "source": [
    "states = {\n",
    "    \"SantanderNorte\" : \n",
    "        [\"NORTEDESANTANDER\", \"NORTESANTANDER\", \"NTESANTANDER\"],\n",
    "    \"ValleDelCauca\" :\n",
    "        [\"VALLEDELCAUCA\", \"VALLE\", \"VALLEDECAUCA\"],\n",
    "    \"Santander\" : \n",
    "        [\"SANTANDER\"],\n",
    "    \"Tolima\" : \n",
    "        [\"TOLIMA\"],\n",
    "    \"Huila\" : \n",
    "        [\"HUILA\"],\n",
    "}"
   ]
  },
  {
   "cell_type": "code",
   "execution_count": 3,
   "metadata": {},
   "outputs": [
    {
     "name": "stdout",
     "output_type": "stream",
     "text": [
      "Enter previous year2016\n",
      "Enter year that you wish to parse2017\n",
      "Enter first epi week number to parse [1-52]1\n",
      "Enter last epi week number to parse [1-52]52\n"
     ]
    }
   ],
   "source": [
    "previousYear = input(\"Enter previous year\")\n",
    "year = input(\"Enter year that you wish to parse\")\n",
    "firstWeek = int(input(\"Enter first epi week number to parse [1-52]\"))\n",
    "lastWeek = int(input(\"Enter last epi week number to parse [1-52]\"))\n"
   ]
  },
  {
   "cell_type": "code",
   "execution_count": 4,
   "metadata": {
    "collapsed": true
   },
   "outputs": [],
   "source": [
    "def loadFile(filename):\n",
    "    excelFile = pandas.read_excel(\n",
    "        io = filename, \n",
    "        header = 0,\n",
    "        skip_footer = 1,\n",
    "        thousands = \" \",\n",
    "        index_col = 0)[\"Total\"]\n",
    "    return excelFile"
   ]
  },
  {
   "cell_type": "code",
   "execution_count": 5,
   "metadata": {
    "collapsed": true
   },
   "outputs": [],
   "source": [
    "def validateFile(excelFile, stateKey):\n",
    "    columns = excelFile.index\n",
    "    columnsDiccionary = {}\n",
    "    for column in columns:\n",
    "        parsedColumn = column.strip().replace(\" \", \"\").replace(\"\\n\", \"\").upper()\n",
    "        columnsDiccionary[parsedColumn] = excelFile[column]\n",
    "   \n",
    "    for stateName in states[stateKey]:\n",
    "        if(stateName in columnsDiccionary):\n",
    "            return columnsDiccionary[stateName]\n",
    "    return False\n"
   ]
  },
  {
   "cell_type": "code",
   "execution_count": 7,
   "metadata": {},
   "outputs": [],
   "source": [
    "for stateKey in states: \n",
    "    outputFileName = \"{}/parsedFiles/{}.csv\".format(year, stateKey)\n",
    "    with open(outputFileName, 'w') as csvfile:\n",
    "        csvfile.write(\"Week,Cases,Delta\\n\")\n",
    "        \n",
    "        if(year==\"2016\"):\n",
    "            excelFile = loadFile(\"{}/{}/Epi-52.xlsx\".format(previousYear, folder))\n",
    "            value = int(validateFile(excelFile, stateKey))\n",
    "            csvfile.write(\"{},{},0\\n\".format(52, value))\n",
    "        previousValue = 0\n",
    "        \n",
    "        try : \n",
    "            for i in range(firstWeek, lastWeek + 1):\n",
    "                excelFile = loadFile(\"{}/{}/Epi-{}.xlsx\".format(year, folder, i))\n",
    "\n",
    "                value = int(validateFile(excelFile, stateKey))\n",
    "                delta = value - previousValue\n",
    "                previousValue = value\n",
    "                csvfile.write(\"{},{},{}\\n\".format(i, value, delta))\n",
    "        except Exception as e: \n",
    "            print(\"Error in Epi week, check before proceeding: \", i)\n",
    "            print(e)"
   ]
  },
  {
   "cell_type": "code",
   "execution_count": null,
   "metadata": {
    "collapsed": true
   },
   "outputs": [],
   "source": []
  }
 ],
 "metadata": {
  "kernelspec": {
   "display_name": "Python 3",
   "language": "python",
   "name": "python3"
  },
  "language_info": {
   "codemirror_mode": {
    "name": "ipython",
    "version": 3
   },
   "file_extension": ".py",
   "mimetype": "text/x-python",
   "name": "python",
   "nbconvert_exporter": "python",
   "pygments_lexer": "ipython3",
   "version": "3.6.3"
  }
 },
 "nbformat": 4,
 "nbformat_minor": 2
}

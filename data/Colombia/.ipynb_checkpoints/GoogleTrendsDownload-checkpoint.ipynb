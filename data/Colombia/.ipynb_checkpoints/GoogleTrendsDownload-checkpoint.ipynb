{
 "cells": [
  {
   "cell_type": "code",
   "execution_count": 1,
   "metadata": {
    "collapsed": true
   },
   "outputs": [],
   "source": [
    "from pytrends.request import TrendReq\n",
    "import datetime\n",
    "\n",
    "# Login to Google. Only need to run this once, the rest of requests will use the same session.\n",
    "pytrend = TrendReq()"
   ]
  },
  {
   "cell_type": "code",
   "execution_count": 11,
   "metadata": {
    "collapsed": true
   },
   "outputs": [],
   "source": [
    "def getWeeks():\n",
    "\n",
    "    dStart = input(\"Enter date of start epidemiological week in DD-MM-YYYY format: \")\n",
    "    dStart = [int(i) for i in dStart.split(\"-\")]\n",
    "    start = datetime.datetime(dStart[2],dStart[1],dStart[0])\n",
    "    \n",
    "    dEnd = input(\"Enter date of end epidemiological week in DD-MM-YYYY format: \")\n",
    "    dEnd = [int(i) for i in dEnd.split(\"-\")]\n",
    "    end = datetime.datetime(dEnd[2],dEnd[1],dEnd[0])\n",
    "    \n",
    "    nextWeek = getNextWeek(start)\n",
    "    weeks = [start]\n",
    "    \n",
    "    while nextWeek <= end:\n",
    "        if(nextWeek < datetime.datetime.today()):\n",
    "            weeks.append(nextWeek)\n",
    "            nextWeek = getNextWeek(nextWeek)\n",
    "    \n",
    "    return weeks"
   ]
  },
  {
   "cell_type": "code",
   "execution_count": 9,
   "metadata": {
    "collapsed": true
   },
   "outputs": [],
   "source": [
    "def getNextWeek(timeframe):\n",
    "    return timeframe+datetime.timedelta(days=7)"
   ]
  },
  {
   "cell_type": "code",
   "execution_count": 10,
   "metadata": {
    "collapsed": true
   },
   "outputs": [],
   "source": [
    "def getYMD(timeframe):\n",
    "    return \"{}/{}/{}\".format(timeframe.day,timeframe.month,timeframe.year)"
   ]
  },
  {
   "cell_type": "code",
   "execution_count": null,
   "metadata": {
    "collapsed": true
   },
   "outputs": [],
   "source": [
    "year = input(\"Enter year: \")"
   ]
  },
  {
   "cell_type": "code",
   "execution_count": 3,
   "metadata": {},
   "outputs": [
    {
     "name": "stdout",
     "output_type": "stream",
     "text": [
      "Enter country code: CO\n"
     ]
    }
   ],
   "source": [
    "countryCode = input(\"Enter country code: \")"
   ]
  },
  {
   "cell_type": "code",
   "execution_count": 12,
   "metadata": {},
   "outputs": [
    {
     "name": "stdout",
     "output_type": "stream",
     "text": [
      "Enter date of start epidemiological week in DD-MM-YYYY format: 04-01-2016\n",
      "Enter date of end epidemiological week in DD-MM-YYYY format: 01-01-2017\n"
     ]
    }
   ],
   "source": [
    "weeks = getWeeks()"
   ]
  },
  {
   "cell_type": "code",
   "execution_count": 15,
   "metadata": {},
   "outputs": [
    {
     "name": "stdout",
     "output_type": "stream",
     "text": [
      "2016-1-4 -> 2016-1-10\n",
      "DONE 2016-01-04 00:00:00\n",
      "2016-1-11 -> 2016-1-17\n",
      "DONE 2016-01-11 00:00:00\n",
      "2016-1-18 -> 2016-1-24\n",
      "DONE 2016-01-18 00:00:00\n",
      "2016-1-25 -> 2016-1-31\n",
      "DONE 2016-01-25 00:00:00\n",
      "2016-2-1 -> 2016-2-7\n",
      "DONE 2016-02-01 00:00:00\n",
      "2016-2-8 -> 2016-2-14\n",
      "DONE 2016-02-08 00:00:00\n",
      "2016-2-15 -> 2016-2-21\n",
      "DONE 2016-02-15 00:00:00\n",
      "2016-2-22 -> 2016-2-28\n",
      "DONE 2016-02-22 00:00:00\n",
      "2016-2-29 -> 2016-3-6\n",
      "DONE 2016-02-29 00:00:00\n",
      "2016-3-7 -> 2016-3-13\n",
      "DONE 2016-03-07 00:00:00\n",
      "2016-3-14 -> 2016-3-20\n",
      "DONE 2016-03-14 00:00:00\n",
      "2016-3-21 -> 2016-3-27\n",
      "DONE 2016-03-21 00:00:00\n",
      "2016-3-28 -> 2016-4-3\n",
      "DONE 2016-03-28 00:00:00\n",
      "2016-4-4 -> 2016-4-10\n",
      "DONE 2016-04-04 00:00:00\n",
      "2016-4-11 -> 2016-4-17\n",
      "DONE 2016-04-11 00:00:00\n",
      "2016-4-18 -> 2016-4-24\n",
      "DONE 2016-04-18 00:00:00\n",
      "2016-4-25 -> 2016-5-1\n",
      "DONE 2016-04-25 00:00:00\n",
      "2016-5-2 -> 2016-5-8\n",
      "DONE 2016-05-02 00:00:00\n",
      "2016-5-9 -> 2016-5-15\n",
      "DONE 2016-05-09 00:00:00\n",
      "2016-5-16 -> 2016-5-22\n",
      "DONE 2016-05-16 00:00:00\n",
      "2016-5-23 -> 2016-5-29\n",
      "DONE 2016-05-23 00:00:00\n",
      "2016-5-30 -> 2016-6-5\n",
      "DONE 2016-05-30 00:00:00\n",
      "2016-6-6 -> 2016-6-12\n",
      "DONE 2016-06-06 00:00:00\n",
      "2016-6-13 -> 2016-6-19\n",
      "DONE 2016-06-13 00:00:00\n",
      "2016-6-20 -> 2016-6-26\n",
      "DONE 2016-06-20 00:00:00\n",
      "2016-6-27 -> 2016-7-3\n",
      "DONE 2016-06-27 00:00:00\n",
      "2016-7-4 -> 2016-7-10\n",
      "DONE 2016-07-04 00:00:00\n",
      "2016-7-11 -> 2016-7-17\n",
      "DONE 2016-07-11 00:00:00\n",
      "2016-7-18 -> 2016-7-24\n",
      "DONE 2016-07-18 00:00:00\n",
      "2016-7-25 -> 2016-7-31\n",
      "DONE 2016-07-25 00:00:00\n",
      "2016-8-1 -> 2016-8-7\n",
      "DONE 2016-08-01 00:00:00\n",
      "2016-8-8 -> 2016-8-14\n",
      "DONE 2016-08-08 00:00:00\n",
      "2016-8-15 -> 2016-8-21\n",
      "DONE 2016-08-15 00:00:00\n",
      "2016-8-22 -> 2016-8-28\n",
      "DONE 2016-08-22 00:00:00\n",
      "2016-8-29 -> 2016-9-4\n",
      "DONE 2016-08-29 00:00:00\n",
      "2016-9-5 -> 2016-9-11\n",
      "DONE 2016-09-05 00:00:00\n",
      "2016-9-12 -> 2016-9-18\n",
      "DONE 2016-09-12 00:00:00\n",
      "2016-9-19 -> 2016-9-25\n",
      "DONE 2016-09-19 00:00:00\n",
      "2016-9-26 -> 2016-10-2\n",
      "DONE 2016-09-26 00:00:00\n",
      "2016-10-3 -> 2016-10-9\n",
      "DONE 2016-10-03 00:00:00\n",
      "2016-10-10 -> 2016-10-16\n",
      "DONE 2016-10-10 00:00:00\n",
      "2016-10-17 -> 2016-10-23\n",
      "DONE 2016-10-17 00:00:00\n",
      "2016-10-24 -> 2016-10-30\n",
      "DONE 2016-10-24 00:00:00\n",
      "2016-10-31 -> 2016-11-6\n",
      "DONE 2016-10-31 00:00:00\n",
      "2016-11-7 -> 2016-11-13\n",
      "DONE 2016-11-07 00:00:00\n",
      "2016-11-14 -> 2016-11-20\n",
      "DONE 2016-11-14 00:00:00\n",
      "2016-11-21 -> 2016-11-27\n",
      "DONE 2016-11-21 00:00:00\n",
      "2016-11-28 -> 2016-12-4\n",
      "DONE 2016-11-28 00:00:00\n",
      "2016-12-5 -> 2016-12-11\n",
      "DONE 2016-12-05 00:00:00\n",
      "2016-12-12 -> 2016-12-18\n",
      "DONE 2016-12-12 00:00:00\n",
      "2016-12-19 -> 2016-12-25\n",
      "DONE 2016-12-19 00:00:00\n",
      "2016-12-26 -> 2017-1-1\n",
      "DONE 2016-12-26 00:00:00\n"
     ]
    }
   ],
   "source": [
    "with open(\"{}/google/{}.csv\".format(year, countryCode), \"w\") as file:\n",
    "    weekEpiArray = []\n",
    "    cities = {}\n",
    "    file.write(\"CITY,\")\n",
    "    file.write(\",\".join(map(getYMD, weeks))+\"\\n\")\n",
    "    for i in range(len(weeks)):\n",
    "        week = weeks[i]\n",
    "        nextWeek = getNextWeek(week)\n",
    "        year = week.year\n",
    "        month = week.month\n",
    "        day = week.day\n",
    "        nextWeekC = nextWeek - datetime.timedelta(days=1)\n",
    "        timeframe = \"{}-{}-{} {}-{}-{}\".format(year,month,day,nextWeekC.year,nextWeekC.month,nextWeekC.day)\n",
    "        print(\"{}-{}-{} -> {}-{}-{}\".format(year,month,day,nextWeekC.year,nextWeekC.month,nextWeekC.day))\n",
    "        pytrend.build_payload(kw_list=['zika'], geo=countryCode, timeframe=timeframe)\n",
    "        results = pytrend.interest_by_region(resolution=\"CITY\")\n",
    "        # if a city's search index is 0 it doesn't appear on results, so we have to keep track of it\n",
    "        tempWeekArray = {}\n",
    "        for index, row in results.iterrows():\n",
    "            tempWeekArray[index] = row[\"zika\"]\n",
    "            if index not in cities:\n",
    "                cities[index] = index #Store in dictionary to get O(1) access\n",
    "        weekEpiArray.append(tempWeekArray)\n",
    "        print(\"DONE\", week)\n",
    "        \n",
    "    # Iterate on weekEpiArray and replace non existent cities with zeroes\n",
    "    searchesByCity = {}\n",
    "    for city in cities:\n",
    "        searchesByCity[city] = []\n",
    "        for week in weekEpiArray:\n",
    "            if city not in week:\n",
    "                searchesByCity[city].append(0)\n",
    "            else:\n",
    "                searchesByCity[city].append(week[city])\n",
    "                \n",
    "    # Finally write to file\n",
    "    for city in sorted(searchesByCity.keys()):\n",
    "        file.write(\"{},\".format(city))\n",
    "        file.write(\",\".join(map(str,searchesByCity[city])))\n",
    "        file.write(\"\\n\")"
   ]
  },
  {
   "cell_type": "code",
   "execution_count": null,
   "metadata": {
    "collapsed": true
   },
   "outputs": [],
   "source": []
  }
 ],
 "metadata": {
  "kernelspec": {
   "display_name": "Python 3",
   "language": "python",
   "name": "python3"
  },
  "language_info": {
   "codemirror_mode": {
    "name": "ipython",
    "version": 3
   },
   "file_extension": ".py",
   "mimetype": "text/x-python",
   "name": "python",
   "nbconvert_exporter": "python",
   "pygments_lexer": "ipython3",
   "version": "3.6.3"
  }
 },
 "nbformat": 4,
 "nbformat_minor": 2
}

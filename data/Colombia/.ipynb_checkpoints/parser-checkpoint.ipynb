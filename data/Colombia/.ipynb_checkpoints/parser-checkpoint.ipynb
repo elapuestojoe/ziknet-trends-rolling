{
 "cells": [
  {
   "cell_type": "code",
   "execution_count": 62,
   "metadata": {
    "collapsed": true
   },
   "outputs": [],
   "source": [
    "import pandas\n",
    "\n",
    "folder = \"excel_files\""
   ]
  },
  {
   "cell_type": "code",
   "execution_count": 63,
   "metadata": {
    "collapsed": true
   },
   "outputs": [],
   "source": [
    "states = {\n",
    "    \"SantanderNorte\" : \n",
    "        [\"NORTEDESANTANDER\", \"NORTESANTANDER\", \"NTESANTANDER\"],\n",
    "    \"Cundinamarca\" : \n",
    "        [\"CUNDINAMARCA\"],\n",
    "    \"ValleDelCauca\" :\n",
    "        [\"VALLEDELCAUCA\", \"VALLE\", \"VALLEDECAUCA\"],\n",
    "    \"Santander\" : \n",
    "        [\"SANTANDER\"],\n",
    "    \"Tolima\" : \n",
    "        [\"TOLIMA\"],\n",
    "    \"Huila\" : \n",
    "        [\"HUILA\"],\n",
    "    \"Barranquilla\" :\n",
    "        [\"BARRANQUILLA\"],\n",
    "    \"Meta\" :\n",
    "        [\"META\"],\n",
    "    \"Casanare\" :\n",
    "        [\"CASANARE\"],\n",
    "    \"Córdoba\" : \n",
    "        [\"CÓRDOBA\"],\n",
    "}"
   ]
  },
  {
   "cell_type": "code",
   "execution_count": 64,
   "metadata": {},
   "outputs": [
    {
     "name": "stdout",
     "output_type": "stream",
     "text": [
      "Enter year that you wish to parse2015\n",
      "Enter first epi week number to parse [1-52]43\n",
      "Enter last epi week number to parse [1-52]52\n",
      "Enter state keyCórdoba\n"
     ]
    }
   ],
   "source": [
    "year = input(\"Enter year that you wish to parse\")\n",
    "firstWeek = int(input(\"Enter first epi week number to parse [1-52]\"))\n",
    "lastWeek = int(input(\"Enter last epi week number to parse [1-52]\"))\n",
    "stateKey = input(\"Enter state key\")"
   ]
  },
  {
   "cell_type": "code",
   "execution_count": 65,
   "metadata": {
    "collapsed": true
   },
   "outputs": [],
   "source": [
    "def loadFile(filename):\n",
    "    excelFile = pandas.read_excel(\n",
    "        io = filename, \n",
    "        header = 0,\n",
    "        skip_footer = 1,\n",
    "        thousands = \" \",\n",
    "        index_col = 0)[\"Total\"]\n",
    "    return excelFile"
   ]
  },
  {
   "cell_type": "code",
   "execution_count": 66,
   "metadata": {
    "collapsed": true
   },
   "outputs": [],
   "source": [
    "def validateFile(excelFile, stateKey):\n",
    "    columns = excelFile.index\n",
    "    columnsDiccionary = {}\n",
    "    for column in columns:\n",
    "        parsedColumn = column.strip().replace(\" \", \"\").replace(\"\\n\", \"\").upper()\n",
    "        columnsDiccionary[parsedColumn] = excelFile[column]\n",
    "   \n",
    "    for stateName in states[stateKey]:\n",
    "        if(stateName in columnsDiccionary):\n",
    "            return columnsDiccionary[stateName]\n",
    "    return False\n"
   ]
  },
  {
   "cell_type": "code",
   "execution_count": 67,
   "metadata": {},
   "outputs": [],
   "source": [
    "outputFileName = \"{}/parsedFiles/{}.csv\".format(year, stateKey)\n",
    "with open(outputFileName, 'w') as csvfile:\n",
    "    csvfile.write(\"Week,Cases\\n\")\n",
    "    try : \n",
    "        for i in range(firstWeek, lastWeek + 1):\n",
    "            excelFile = loadFile(\"{}/{}/Epi-{}.xlsx\".format(year, folder, i))\n",
    "\n",
    "            value = int(validateFile(excelFile, stateKey))\n",
    "            csvfile.write(\"{},{}\\n\".format(i, value))\n",
    "    except Exception as e: \n",
    "        print(\"Error in Epi week, check before proceeding: \", i)\n",
    "        print(e)"
   ]
  },
  {
   "cell_type": "code",
   "execution_count": null,
   "metadata": {
    "collapsed": true
   },
   "outputs": [],
   "source": []
  }
 ],
 "metadata": {
  "kernelspec": {
   "display_name": "Python 3",
   "language": "python",
   "name": "python3"
  },
  "language_info": {
   "codemirror_mode": {
    "name": "ipython",
    "version": 3
   },
   "file_extension": ".py",
   "mimetype": "text/x-python",
   "name": "python",
   "nbconvert_exporter": "python",
   "pygments_lexer": "ipython3",
   "version": "3.6.3"
  }
 },
 "nbformat": 4,
 "nbformat_minor": 2
}

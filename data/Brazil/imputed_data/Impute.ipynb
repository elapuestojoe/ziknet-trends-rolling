{
 "cells": [
  {
   "cell_type": "code",
   "execution_count": 94,
   "metadata": {
    "collapsed": true
   },
   "outputs": [],
   "source": [
    "import pandas as pd\n",
    "import numpy as np"
   ]
  },
  {
   "cell_type": "code",
   "execution_count": 95,
   "metadata": {},
   "outputs": [],
   "source": [
    "\n",
    "for filename in [\"Data2016.csv\", \"Data2017.csv\"]:\n",
    "    dataset = pd.read_csv(filename, header=0)\n",
    "    datasetNoIndex = dataset.drop(\"Week\", axis=1) #Drop week as in crashes when imputing data\n",
    "\n",
    "    imputed_dataset = datasetNoIndex.interpolate(method=\"quadratic\")\n",
    "    imputed_dataset.set_index(dataset[\"Week\"], inplace=True)\n",
    "    \n",
    "    imputed_dataset.to_csv(\"Imputed-{}\".format(filename))\n",
    "    \n",
    "    #Create Weekly:\n",
    "    \n",
    "    weeklyDataset =  imputed_dataset.diff()[1:]\n",
    "    weeklyDataset.to_csv(\"Weekly-{}\".format(filename))"
   ]
  },
  {
   "cell_type": "code",
   "execution_count": null,
   "metadata": {
    "collapsed": true
   },
   "outputs": [],
   "source": []
  }
 ],
 "metadata": {
  "kernelspec": {
   "display_name": "Python 3",
   "language": "python",
   "name": "python3"
  },
  "language_info": {
   "codemirror_mode": {
    "name": "ipython",
    "version": 3
   },
   "file_extension": ".py",
   "mimetype": "text/x-python",
   "name": "python",
   "nbconvert_exporter": "python",
   "pygments_lexer": "ipython3",
   "version": "3.6.3"
  }
 },
 "nbformat": 4,
 "nbformat_minor": 2
}

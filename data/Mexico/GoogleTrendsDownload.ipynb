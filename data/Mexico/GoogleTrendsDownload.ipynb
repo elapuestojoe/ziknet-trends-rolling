{
 "cells": [
  {
   "cell_type": "code",
   "execution_count": 1,
   "metadata": {},
   "outputs": [],
   "source": [
    "from pytrends.request import TrendReq\n",
    "import datetime\n",
    "\n",
    "# Login to Google. Only need to run this once, the rest of requests will use the same session.\n",
    "pytrend = TrendReq()"
   ]
  },
  {
   "cell_type": "code",
   "execution_count": 2,
   "metadata": {
    "collapsed": true
   },
   "outputs": [],
   "source": [
    "def getWeeks():\n",
    "\n",
    "    dStart = input(\"Enter date of start epidemiological week in DD-MM-YYYY format: \")\n",
    "    dStart = [int(i) for i in dStart.split(\"-\")]\n",
    "    start = datetime.datetime(dStart[2],dStart[1],dStart[0])\n",
    "    \n",
    "    dEnd = input(\"Enter date of end epidemiological week in DD-MM-YYYY format: \")\n",
    "    dEnd = [int(i) for i in dEnd.split(\"-\")]\n",
    "    end = datetime.datetime(dEnd[2],dEnd[1],dEnd[0])\n",
    "    \n",
    "    nextWeek = getNextWeek(start)\n",
    "    weeks = [start]\n",
    "    \n",
    "    while nextWeek <= end:\n",
    "        if(nextWeek < datetime.datetime.today()):\n",
    "            weeks.append(nextWeek)\n",
    "            nextWeek = getNextWeek(nextWeek)\n",
    "    \n",
    "    return weeks"
   ]
  },
  {
   "cell_type": "code",
   "execution_count": 3,
   "metadata": {
    "collapsed": true
   },
   "outputs": [],
   "source": [
    "def getNextWeek(timeframe):\n",
    "    return timeframe+datetime.timedelta(days=7)"
   ]
  },
  {
   "cell_type": "code",
   "execution_count": 4,
   "metadata": {
    "collapsed": true
   },
   "outputs": [],
   "source": [
    "def getYMD(timeframe):\n",
    "    return \"{}/{}/{}\".format(timeframe.day,timeframe.month,timeframe.year)"
   ]
  },
  {
   "cell_type": "code",
   "execution_count": 5,
   "metadata": {},
   "outputs": [
    {
     "name": "stdout",
     "output_type": "stream",
     "text": [
      "Enter keyword: zika sintomas\n"
     ]
    }
   ],
   "source": [
    "keyword = input(\"Enter keyword: \")"
   ]
  },
  {
   "cell_type": "code",
   "execution_count": 6,
   "metadata": {},
   "outputs": [
    {
     "name": "stdout",
     "output_type": "stream",
     "text": [
      "Enter year: 2017\n"
     ]
    }
   ],
   "source": [
    "year = input(\"Enter year: \")"
   ]
  },
  {
   "cell_type": "code",
   "execution_count": 7,
   "metadata": {},
   "outputs": [
    {
     "name": "stdout",
     "output_type": "stream",
     "text": [
      "Enter country code: MX\n"
     ]
    }
   ],
   "source": [
    "countryCode = input(\"Enter country code: \")"
   ]
  },
  {
   "cell_type": "code",
   "execution_count": 8,
   "metadata": {},
   "outputs": [
    {
     "name": "stdout",
     "output_type": "stream",
     "text": [
      "Enter date of start epidemiological week in DD-MM-YYYY format: 07-01-2017\n",
      "Enter date of end epidemiological week in DD-MM-YYYY format: 30-12-2017\n"
     ]
    }
   ],
   "source": [
    "weeks = getWeeks()"
   ]
  },
  {
   "cell_type": "code",
   "execution_count": 20,
   "metadata": {},
   "outputs": [
    {
     "name": "stdout",
     "output_type": "stream",
     "text": [
      "2017-1-7 -> 2017-1-13\n",
      "DONE 2017-01-07 00:00:00\n",
      "2017-1-14 -> 2017-1-20\n",
      "DONE 2017-01-14 00:00:00\n",
      "2017-1-21 -> 2017-1-27\n",
      "DONE 2017-01-21 00:00:00\n",
      "2017-1-28 -> 2017-2-3\n",
      "DONE 2017-01-28 00:00:00\n",
      "2017-2-4 -> 2017-2-10\n",
      "DONE 2017-02-04 00:00:00\n",
      "2017-2-11 -> 2017-2-17\n",
      "DONE 2017-02-11 00:00:00\n",
      "2017-2-18 -> 2017-2-24\n",
      "DONE 2017-02-18 00:00:00\n",
      "2017-2-25 -> 2017-3-3\n",
      "DONE 2017-02-25 00:00:00\n",
      "2017-3-4 -> 2017-3-10\n",
      "DONE 2017-03-04 00:00:00\n",
      "2017-3-11 -> 2017-3-17\n",
      "DONE 2017-03-11 00:00:00\n",
      "2017-3-18 -> 2017-3-24\n",
      "DONE 2017-03-18 00:00:00\n",
      "2017-3-25 -> 2017-3-31\n",
      "DONE 2017-03-25 00:00:00\n",
      "2017-4-1 -> 2017-4-7\n",
      "DONE 2017-04-01 00:00:00\n",
      "2017-4-8 -> 2017-4-14\n",
      "DONE 2017-04-08 00:00:00\n",
      "2017-4-15 -> 2017-4-21\n",
      "DONE 2017-04-15 00:00:00\n",
      "2017-4-22 -> 2017-4-28\n",
      "DONE 2017-04-22 00:00:00\n",
      "2017-4-29 -> 2017-5-5\n",
      "DONE 2017-04-29 00:00:00\n",
      "2017-5-6 -> 2017-5-12\n",
      "DONE 2017-05-06 00:00:00\n",
      "2017-5-13 -> 2017-5-19\n",
      "DONE 2017-05-13 00:00:00\n",
      "2017-5-20 -> 2017-5-26\n",
      "DONE 2017-05-20 00:00:00\n",
      "2017-5-27 -> 2017-6-2\n",
      "DONE 2017-05-27 00:00:00\n",
      "2017-6-3 -> 2017-6-9\n",
      "DONE 2017-06-03 00:00:00\n",
      "2017-6-10 -> 2017-6-16\n",
      "DONE 2017-06-10 00:00:00\n",
      "2017-6-17 -> 2017-6-23\n",
      "DONE 2017-06-17 00:00:00\n",
      "2017-6-24 -> 2017-6-30\n",
      "DONE 2017-06-24 00:00:00\n",
      "2017-7-1 -> 2017-7-7\n",
      "DONE 2017-07-01 00:00:00\n",
      "2017-7-8 -> 2017-7-14\n",
      "DONE 2017-07-08 00:00:00\n",
      "2017-7-15 -> 2017-7-21\n",
      "DONE 2017-07-15 00:00:00\n",
      "2017-7-22 -> 2017-7-28\n",
      "DONE 2017-07-22 00:00:00\n",
      "2017-7-29 -> 2017-8-4\n",
      "DONE 2017-07-29 00:00:00\n",
      "2017-8-5 -> 2017-8-11\n",
      "DONE 2017-08-05 00:00:00\n",
      "2017-8-12 -> 2017-8-18\n",
      "DONE 2017-08-12 00:00:00\n",
      "2017-8-19 -> 2017-8-25\n",
      "DONE 2017-08-19 00:00:00\n",
      "2017-8-26 -> 2017-9-1\n",
      "DONE 2017-08-26 00:00:00\n",
      "2017-9-2 -> 2017-9-8\n",
      "DONE 2017-09-02 00:00:00\n",
      "2017-9-9 -> 2017-9-15\n",
      "DONE 2017-09-09 00:00:00\n",
      "2017-9-16 -> 2017-9-22\n",
      "DONE 2017-09-16 00:00:00\n",
      "2017-9-23 -> 2017-9-29\n",
      "DONE 2017-09-23 00:00:00\n",
      "2017-9-30 -> 2017-10-6\n",
      "DONE 2017-09-30 00:00:00\n",
      "2017-10-7 -> 2017-10-13\n",
      "DONE 2017-10-07 00:00:00\n",
      "2017-10-14 -> 2017-10-20\n",
      "DONE 2017-10-14 00:00:00\n",
      "2017-10-21 -> 2017-10-27\n",
      "DONE 2017-10-21 00:00:00\n",
      "2017-10-28 -> 2017-11-3\n",
      "DONE 2017-10-28 00:00:00\n",
      "2017-11-4 -> 2017-11-10\n",
      "DONE 2017-11-04 00:00:00\n",
      "2017-11-11 -> 2017-11-17\n",
      "DONE 2017-11-11 00:00:00\n",
      "2017-11-18 -> 2017-11-24\n",
      "DONE 2017-11-18 00:00:00\n",
      "2017-11-25 -> 2017-12-1\n",
      "DONE 2017-11-25 00:00:00\n",
      "2017-12-2 -> 2017-12-8\n",
      "DONE 2017-12-02 00:00:00\n",
      "2017-12-9 -> 2017-12-15\n",
      "DONE 2017-12-09 00:00:00\n",
      "2017-12-16 -> 2017-12-22\n",
      "DONE 2017-12-16 00:00:00\n",
      "2017-12-23 -> 2017-12-29\n",
      "DONE 2017-12-23 00:00:00\n",
      "2017-12-30 -> 2018-1-5\n",
      "DONE 2017-12-30 00:00:00\n"
     ]
    }
   ],
   "source": [
    "with open(\"{}/google/{}-{}.csv\".format(year, countryCode, keyword), \"w\") as file:\n",
    "    weekEpiArray = []\n",
    "    cities = {}\n",
    "    file.write(\"CITY,\")\n",
    "    file.write(\",\".join(map(getYMD, weeks))+\"\\n\")\n",
    "    for i in range(len(weeks)):\n",
    "        week = weeks[i]\n",
    "        nextWeek = getNextWeek(week)\n",
    "        year = week.year\n",
    "        month = week.month\n",
    "        day = week.day\n",
    "        nextWeekC = nextWeek - datetime.timedelta(days=1)\n",
    "        timeframe = \"{}-{}-{} {}-{}-{}\".format(year,month,day,nextWeekC.year,nextWeekC.month,nextWeekC.day)\n",
    "        print(\"{}-{}-{} -> {}-{}-{}\".format(year,month,day,nextWeekC.year,nextWeekC.month,nextWeekC.day))\n",
    "        pytrend.build_payload(kw_list=[keyword], geo=countryCode, timeframe=timeframe)\n",
    "        results = pytrend.interest_by_region(resolution=\"CITY\")\n",
    "        # if a city's search index is 0 it doesn't appear on results, so we have to keep track of it\n",
    "        tempWeekArray = {}\n",
    "        for index, row in results.iterrows():\n",
    "            tempWeekArray[index] = row[keyword]\n",
    "            if index not in cities:\n",
    "                cities[index] = index #Store in dictionary to get O(1) access\n",
    "        weekEpiArray.append(tempWeekArray)\n",
    "        print(\"DONE\", week)\n",
    "        \n",
    "    # Iterate on weekEpiArray and replace non existent cities with zeroes\n",
    "    searchesByCity = {}\n",
    "    for city in cities:\n",
    "        searchesByCity[city] = []\n",
    "        for week in weekEpiArray:\n",
    "            if city not in week:\n",
    "                searchesByCity[city].append(0)\n",
    "            else:\n",
    "                searchesByCity[city].append(week[city])\n",
    "                \n",
    "    # Finally write to file\n",
    "    for city in sorted(searchesByCity.keys()):\n",
    "        file.write(\"{},\".format(city))\n",
    "        file.write(\",\".join(map(str,searchesByCity[city])))\n",
    "        file.write(\"\\n\")"
   ]
  },
  {
   "cell_type": "code",
   "execution_count": null,
   "metadata": {
    "collapsed": true
   },
   "outputs": [],
   "source": []
  },
  {
   "cell_type": "code",
   "execution_count": null,
   "metadata": {
    "collapsed": true
   },
   "outputs": [],
   "source": []
  }
 ],
 "metadata": {
  "kernelspec": {
   "display_name": "Python 3",
   "language": "python",
   "name": "python3"
  },
  "language_info": {
   "codemirror_mode": {
    "name": "ipython",
    "version": 3
   },
   "file_extension": ".py",
   "mimetype": "text/x-python",
   "name": "python",
   "nbconvert_exporter": "python",
   "pygments_lexer": "ipython3",
   "version": "3.6.3"
  }
 },
 "nbformat": 4,
 "nbformat_minor": 2
}

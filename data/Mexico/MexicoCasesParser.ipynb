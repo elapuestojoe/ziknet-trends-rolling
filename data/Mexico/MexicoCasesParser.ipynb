{
 "cells": [
  {
   "cell_type": "code",
   "execution_count": 2,
   "metadata": {
    "collapsed": true
   },
   "outputs": [],
   "source": [
    "import pandas as pd\n",
    "import os"
   ]
  },
  {
   "cell_type": "code",
   "execution_count": 3,
   "metadata": {},
   "outputs": [
    {
     "name": "stdout",
     "output_type": "stream",
     "text": [
      "Enter year: 2016\n"
     ]
    }
   ],
   "source": [
    "year = input(\"Enter year: \")"
   ]
  },
  {
   "cell_type": "code",
   "execution_count": 4,
   "metadata": {
    "collapsed": true
   },
   "outputs": [],
   "source": [
    "directory = \"{}/reports_as_csv\".format(year)"
   ]
  },
  {
   "cell_type": "code",
   "execution_count": 5,
   "metadata": {
    "collapsed": true
   },
   "outputs": [],
   "source": [
    "casesPerCity = {}\n",
    "dates = []"
   ]
  },
  {
   "cell_type": "code",
   "execution_count": 6,
   "metadata": {},
   "outputs": [
    {
     "name": "stderr",
     "output_type": "stream",
     "text": [
      "E:\\Aplicaciones\\Anaconda\\lib\\site-packages\\pandas\\core\\generic.py:3924: SettingWithCopyWarning: \n",
      "A value is trying to be set on a copy of a slice from a DataFrame\n",
      "\n",
      "See the caveats in the documentation: http://pandas.pydata.org/pandas-docs/stable/indexing.html#indexing-view-versus-copy\n",
      "  self._update_inplace(new_data)\n",
      "E:\\Aplicaciones\\Anaconda\\lib\\site-packages\\ipykernel_launcher.py:19: SettingWithCopyWarning: \n",
      "A value is trying to be set on a copy of a slice from a DataFrame\n",
      "\n",
      "See the caveats in the documentation: http://pandas.pydata.org/pandas-docs/stable/indexing.html#indexing-view-versus-copy\n"
     ]
    }
   ],
   "source": [
    "for file in sorted(os.listdir(directory)):\n",
    "    filename = os.fsdecode(file)\n",
    "\n",
    "    excel = pd.read_csv(\"{}/reports_as_csv/{}\".format(year, filename), \n",
    "        usecols=[\"report_date\", \"location\", \"data_field\", \"value\"])\n",
    "\n",
    "    weeklyConfirmed = excel.loc[excel[\"data_field\"] == \"weekly_zika_confirmed\"]\n",
    "\n",
    "    weeklyConfirmed[\"location\"].replace(to_replace=[\"Mexico-Mexico\"],\n",
    "        value=\"Mexico-State_Of_Mexico\",\n",
    "        inplace=True)\n",
    "    weeklyConfirmed[\"location\"].replace(to_replace=[\"Mexico-State-Of-Mexico\"],\n",
    "        value=\"Mexico-State_Of_Mexico\",\n",
    "        inplace=True)\n",
    "    weeklyConfirmed[\"location\"].replace(to_replace=[\"Mexico-Distrito_Federal\"],\n",
    "        value=\"Mexico-Mexico_City\",\n",
    "        inplace=True)\n",
    "\n",
    "    weeklyConfirmed.sort_values(by=[\"location\"],inplace=True)\n",
    "    date = None\n",
    "    for index,row in weeklyConfirmed.iterrows():\n",
    "        if(date==None):\n",
    "            date = row.report_date\n",
    "        if row.location not in casesPerCity:\n",
    "            casesPerCity[row.location] = []\n",
    "        casesPerCity[row.location].append(row.value)\n",
    "    dates.append(date)"
   ]
  },
  {
   "cell_type": "code",
   "execution_count": 7,
   "metadata": {
    "collapsed": true
   },
   "outputs": [],
   "source": [
    "with open(\"{0}/cases{0}.csv\".format(year), \"w\") as file:\n",
    "    file.write(\"CITY,\")\n",
    "    file.write(\",\".join(dates))\n",
    "    file.write(\"\\n\")\n",
    "    \n",
    "    for key in sorted(casesPerCity.keys()):\n",
    "        file.write(\"{},\".format(key))\n",
    "        file.write(\",\".join(map(str, casesPerCity[key])))\n",
    "        file.write(\"\\n\")"
   ]
  }
 ],
 "metadata": {
  "kernelspec": {
   "display_name": "Python 3",
   "language": "python",
   "name": "python3"
  },
  "language_info": {
   "codemirror_mode": {
    "name": "ipython",
    "version": 3
   },
   "file_extension": ".py",
   "mimetype": "text/x-python",
   "name": "python",
   "nbconvert_exporter": "python",
   "pygments_lexer": "ipython3",
   "version": "3.6.3"
  }
 },
 "nbformat": 4,
 "nbformat_minor": 2
}

{
 "cells": [
  {
   "cell_type": "code",
   "execution_count": 1,
   "metadata": {
    "collapsed": true
   },
   "outputs": [],
   "source": [
    "from pytrends.request import TrendReq\n",
    "import datetime\n",
    "\n",
    "# Login to Google. Only need to run this once, the rest of requests will use the same session.\n",
    "pytrend = TrendReq()"
   ]
  },
  {
   "cell_type": "code",
   "execution_count": 2,
   "metadata": {
    "collapsed": true
   },
   "outputs": [],
   "source": [
    "def getWeeks():\n",
    "\n",
    "    dStart = input(\"Enter date of start epidemiological week in DD-MM-YYYY format: \")\n",
    "    dStart = [int(i) for i in dStart.split(\"-\")]\n",
    "    start = datetime.datetime(dStart[2],dStart[1],dStart[0])\n",
    "    \n",
    "    dEnd = input(\"Enter date of end epidemiological week in DD-MM-YYYY format: \")\n",
    "    dEnd = [int(i) for i in dEnd.split(\"-\")]\n",
    "    end = datetime.datetime(dEnd[2],dEnd[1],dEnd[0])\n",
    "    \n",
    "    nextWeek = getNextWeek(start)\n",
    "    weeks = [start]\n",
    "    \n",
    "    while nextWeek <= end:\n",
    "        if(nextWeek < datetime.datetime.today()):\n",
    "            weeks.append(nextWeek)\n",
    "            nextWeek = getNextWeek(nextWeek)\n",
    "    \n",
    "    return weeks"
   ]
  },
  {
   "cell_type": "code",
   "execution_count": 3,
   "metadata": {
    "collapsed": true
   },
   "outputs": [],
   "source": [
    "def getNextWeek(timeframe):\n",
    "    return timeframe+datetime.timedelta(days=7)"
   ]
  },
  {
   "cell_type": "code",
   "execution_count": 4,
   "metadata": {
    "collapsed": true
   },
   "outputs": [],
   "source": [
    "def getYMD(timeframe):\n",
    "    return \"{}/{}/{}\".format(timeframe.day,timeframe.month,timeframe.year)"
   ]
  },
  {
   "cell_type": "code",
   "execution_count": 5,
   "metadata": {},
   "outputs": [
    {
     "name": "stdout",
     "output_type": "stream",
     "text": [
      "Enter year: 2016\n"
     ]
    }
   ],
   "source": [
    "year = input(\"Enter year: \")"
   ]
  },
  {
   "cell_type": "code",
   "execution_count": 6,
   "metadata": {},
   "outputs": [
    {
     "name": "stdout",
     "output_type": "stream",
     "text": [
      "Enter country code: MX\n"
     ]
    }
   ],
   "source": [
    "countryCode = input(\"Enter country code: \")"
   ]
  },
  {
   "cell_type": "code",
   "execution_count": 7,
   "metadata": {},
   "outputs": [
    {
     "name": "stdout",
     "output_type": "stream",
     "text": [
      "Enter date of start epidemiological week in DD-MM-YYYY format: 03-01-2016\n",
      "Enter date of end epidemiological week in DD-MM-YYYY format: 31-12-2016\n"
     ]
    }
   ],
   "source": [
    "weeks = getWeeks()"
   ]
  },
  {
   "cell_type": "code",
   "execution_count": null,
   "metadata": {},
   "outputs": [
    {
     "name": "stdout",
     "output_type": "stream",
     "text": [
      "2016-1-3 -> 2016-1-9\n",
      "DONE 2016-01-03 00:00:00\n",
      "2016-1-10 -> 2016-1-16\n",
      "DONE 2016-01-10 00:00:00\n",
      "2016-1-17 -> 2016-1-23\n",
      "DONE 2016-01-17 00:00:00\n",
      "2016-1-24 -> 2016-1-30\n",
      "DONE 2016-01-24 00:00:00\n",
      "2016-1-31 -> 2016-2-6\n",
      "DONE 2016-01-31 00:00:00\n",
      "2016-2-7 -> 2016-2-13\n",
      "DONE 2016-02-07 00:00:00\n",
      "2016-2-14 -> 2016-2-20\n",
      "DONE 2016-02-14 00:00:00\n",
      "2016-2-21 -> 2016-2-27\n",
      "DONE 2016-02-21 00:00:00\n",
      "2016-2-28 -> 2016-3-5\n",
      "DONE 2016-02-28 00:00:00\n",
      "2016-3-6 -> 2016-3-12\n",
      "DONE 2016-03-06 00:00:00\n",
      "2016-3-13 -> 2016-3-19\n",
      "DONE 2016-03-13 00:00:00\n",
      "2016-3-20 -> 2016-3-26\n",
      "DONE 2016-03-20 00:00:00\n",
      "2016-3-27 -> 2016-4-2\n",
      "DONE 2016-03-27 00:00:00\n",
      "2016-4-3 -> 2016-4-9\n",
      "DONE 2016-04-03 00:00:00\n",
      "2016-4-10 -> 2016-4-16\n",
      "DONE 2016-04-10 00:00:00\n",
      "2016-4-17 -> 2016-4-23\n",
      "DONE 2016-04-17 00:00:00\n",
      "2016-4-24 -> 2016-4-30\n",
      "DONE 2016-04-24 00:00:00\n",
      "2016-5-1 -> 2016-5-7\n",
      "DONE 2016-05-01 00:00:00\n",
      "2016-5-8 -> 2016-5-14\n",
      "DONE 2016-05-08 00:00:00\n",
      "2016-5-15 -> 2016-5-21\n",
      "DONE 2016-05-15 00:00:00\n",
      "2016-5-22 -> 2016-5-28\n",
      "DONE 2016-05-22 00:00:00\n",
      "2016-5-29 -> 2016-6-4\n",
      "DONE 2016-05-29 00:00:00\n",
      "2016-6-5 -> 2016-6-11\n",
      "DONE 2016-06-05 00:00:00\n",
      "2016-6-12 -> 2016-6-18\n",
      "DONE 2016-06-12 00:00:00\n",
      "2016-6-19 -> 2016-6-25\n",
      "DONE 2016-06-19 00:00:00\n",
      "2016-6-26 -> 2016-7-2\n",
      "DONE 2016-06-26 00:00:00\n",
      "2016-7-3 -> 2016-7-9\n",
      "DONE 2016-07-03 00:00:00\n",
      "2016-7-10 -> 2016-7-16\n",
      "DONE 2016-07-10 00:00:00\n",
      "2016-7-17 -> 2016-7-23\n",
      "DONE 2016-07-17 00:00:00\n",
      "2016-7-24 -> 2016-7-30\n"
     ]
    }
   ],
   "source": [
    "with open(\"{}/google/{}.csv\".format(year, countryCode), \"w\") as file:\n",
    "    weekEpiArray = []\n",
    "    cities = {}\n",
    "    file.write(\"CITY,\")\n",
    "    file.write(\",\".join(map(getYMD, weeks))+\"\\n\")\n",
    "    for i in range(len(weeks)):\n",
    "        week = weeks[i]\n",
    "        nextWeek = getNextWeek(week)\n",
    "        year = week.year\n",
    "        month = week.month\n",
    "        day = week.day\n",
    "        nextWeekC = nextWeek - datetime.timedelta(days=1)\n",
    "        timeframe = \"{}-{}-{} {}-{}-{}\".format(year,month,day,nextWeekC.year,nextWeekC.month,nextWeekC.day)\n",
    "        print(\"{}-{}-{} -> {}-{}-{}\".format(year,month,day,nextWeekC.year,nextWeekC.month,nextWeekC.day))\n",
    "        pytrend.build_payload(kw_list=['zika'], geo=countryCode, timeframe=timeframe)\n",
    "        results = pytrend.interest_by_region(resolution=\"CITY\")\n",
    "        # if a city's search index is 0 it doesn't appear on results, so we have to keep track of it\n",
    "        tempWeekArray = {}\n",
    "        for index, row in results.iterrows():\n",
    "            tempWeekArray[index] = row[\"zika\"]\n",
    "            if index not in cities:\n",
    "                cities[index] = index #Store in dictionary to get O(1) access\n",
    "        weekEpiArray.append(tempWeekArray)\n",
    "        print(\"DONE\", week)\n",
    "        \n",
    "    # Iterate on weekEpiArray and replace non existent cities with zeroes\n",
    "    searchesByCity = {}\n",
    "    for city in cities:\n",
    "        searchesByCity[city] = []\n",
    "        for week in weekEpiArray:\n",
    "            if city not in week:\n",
    "                searchesByCity[city].append(0)\n",
    "            else:\n",
    "                searchesByCity[city].append(week[city])\n",
    "                \n",
    "    # Finally write to file\n",
    "    for city in sorted(searchesByCity.keys()):\n",
    "        file.write(\"{},\".format(city))\n",
    "        file.write(\",\".join(map(str,searchesByCity[city])))\n",
    "        file.write(\"\\n\")"
   ]
  },
  {
   "cell_type": "code",
   "execution_count": null,
   "metadata": {
    "collapsed": true
   },
   "outputs": [],
   "source": []
  }
 ],
 "metadata": {
  "kernelspec": {
   "display_name": "Python 3",
   "language": "python",
   "name": "python3"
  },
  "language_info": {
   "codemirror_mode": {
    "name": "ipython",
    "version": 3
   },
   "file_extension": ".py",
   "mimetype": "text/x-python",
   "name": "python",
   "nbconvert_exporter": "python",
   "pygments_lexer": "ipython3",
   "version": "3.6.3"
  }
 },
 "nbformat": 4,
 "nbformat_minor": 2
}

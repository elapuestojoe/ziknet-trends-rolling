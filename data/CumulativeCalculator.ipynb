{
 "cells": [
  {
   "cell_type": "code",
   "execution_count": 1,
   "metadata": {
    "collapsed": true
   },
   "outputs": [],
   "source": [
    "import numpy as np\n",
    "import pandas as pd\n",
    "import os"
   ]
  },
  {
   "cell_type": "code",
   "execution_count": 2,
   "metadata": {
    "collapsed": true
   },
   "outputs": [],
   "source": [
    "cumulativeCsv = pd.DataFrame(columns=[\"Country\", \"Cases 2016\", \"Cases 2017\", \"Total Cases\"])\n",
    "stateCsv = pd.DataFrame(columns=[\"State\", \"Cases 2016\", \"Cases 2017\", \"Total Cases\"])\n",
    "\n",
    "for country in [\"Brazil\", \"Colombia\", \"Mexico\"]:\n",
    "    \n",
    "    folder = \"../data/{}/processed_data\".format(country)\n",
    "    files = os.listdir(folder)\n",
    "    cases2016 = 0\n",
    "    cases2017 = 0\n",
    "    for file in files:\n",
    "        dataset = pd.read_csv(\"{}/{}\".format(folder, file), index_col=0)\n",
    "        \n",
    "        cases2016 += dataset[\"Cases\"][:52].sum()\n",
    "        cases2017 += dataset[\"Cases\"][52:].sum()\n",
    "        \n",
    "        stateCsv = stateCsv.append({\n",
    "            \"State\" : file,\n",
    "            \"Cases 2016\" : dataset[\"Cases\"][:52].sum(),\n",
    "            \"Cases 2017\" : dataset[\"Cases\"][52:].sum(),\n",
    "            \"Total Cases\" : dataset[\"Cases\"][:52].sum() + dataset[\"Cases\"][52:].sum()\n",
    "        }, ignore_index=True)\n",
    "        \n",
    "    cumulativeCsv = cumulativeCsv.append({\n",
    "        \"Country\": country,\n",
    "        \"Cases 2016\" : cases2016,\n",
    "        \"Cases 2017\" : cases2017,\n",
    "        \"Total Cases\" : cases2016+cases2017\n",
    "    },ignore_index=True)\n",
    "stateCsv.to_csv(\"StateCases2016-2017.csv\")\n",
    "cumulativeCsv.to_csv(\"CumulativeCases2016-2017.csv\")"
   ]
  },
  {
   "cell_type": "code",
   "execution_count": null,
   "metadata": {
    "collapsed": true
   },
   "outputs": [],
   "source": []
  }
 ],
 "metadata": {
  "kernelspec": {
   "display_name": "Python 3",
   "language": "python",
   "name": "python3"
  },
  "language_info": {
   "codemirror_mode": {
    "name": "ipython",
    "version": 3
   },
   "file_extension": ".py",
   "mimetype": "text/x-python",
   "name": "python",
   "nbconvert_exporter": "python",
   "pygments_lexer": "ipython3",
   "version": "3.6.3"
  }
 },
 "nbformat": 4,
 "nbformat_minor": 2
}

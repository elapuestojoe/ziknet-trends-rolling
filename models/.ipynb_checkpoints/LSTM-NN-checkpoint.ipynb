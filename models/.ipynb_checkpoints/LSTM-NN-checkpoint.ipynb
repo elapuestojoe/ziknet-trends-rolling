{
 "cells": [
  {
   "cell_type": "code",
   "execution_count": 1,
   "metadata": {
    "colab": {
     "base_uri": "https://localhost:8080/",
     "height": 35
    },
    "colab_type": "code",
    "executionInfo": {
     "elapsed": 570,
     "status": "ok",
     "timestamp": 1550216608735,
     "user": {
      "displayName": "Kevin Islas Abud",
      "photoUrl": "",
      "userId": "17803260883912783595"
     },
     "user_tz": 360
    },
    "id": "8Dr8joKFlP70",
    "outputId": "0744551a-f09f-41f9-d6b1-1d2cf2446841"
   },
   "outputs": [
    {
     "name": "stdout",
     "output_type": "stream",
     "text": [
      "Drive already mounted at /content/drive; to attempt to forcibly remount, call drive.mount(\"/content/drive\", force_remount=True).\n"
     ]
    }
   ],
   "source": [
    "from google.colab import drive\n",
    "drive.mount('/content/drive')"
   ]
  },
  {
   "cell_type": "code",
   "execution_count": 2,
   "metadata": {
    "colab": {
     "base_uri": "https://localhost:8080/",
     "height": 54
    },
    "colab_type": "code",
    "executionInfo": {
     "elapsed": 2258,
     "status": "ok",
     "timestamp": 1550216610442,
     "user": {
      "displayName": "Kevin Islas Abud",
      "photoUrl": "",
      "userId": "17803260883912783595"
     },
     "user_tz": 360
    },
    "id": "KOuIaaUE7nGp",
    "outputId": "0ec058a5-6bf9-44ea-b5ff-05befab44055"
   },
   "outputs": [
    {
     "name": "stdout",
     "output_type": "stream",
     "text": [
      "Drive already mounted at /content/drive; to attempt to forcibly remount, call drive.mount(\"/content/drive\", force_remount=True).\n"
     ]
    },
    {
     "name": "stderr",
     "output_type": "stream",
     "text": [
      "Using TensorFlow backend.\n"
     ]
    }
   ],
   "source": [
    "import sys\n",
    "sys.path.append(\"drive/My Drive/ziknet-trends-rolling/models/\")\n",
    "import dataUtilities\n",
    "import modelUtilities"
   ]
  },
  {
   "cell_type": "code",
   "execution_count": 3,
   "metadata": {
    "colab": {
     "base_uri": "https://localhost:8080/",
     "height": 1237
    },
    "colab_type": "code",
    "executionInfo": {
     "elapsed": 435167,
     "status": "ok",
     "timestamp": 1550217043366,
     "user": {
      "displayName": "Kevin Islas Abud",
      "photoUrl": "",
      "userId": "17803260883912783595"
     },
     "user_tz": 360
    },
    "id": "Mw5n0c33EQL4",
    "outputId": "982239c0-157e-4b18-ff29-bdb661063027"
   },
   "outputs": [
    {
     "name": "stdout",
     "output_type": "stream",
     "text": [
      "WARNING:tensorflow:From /usr/local/lib/python3.6/dist-packages/tensorflow/python/framework/op_def_library.py:263: colocate_with (from tensorflow.python.framework.ops) is deprecated and will be removed in a future version.\n",
      "Instructions for updating:\n",
      "Colocations handled automatically by placer.\n",
      "WARNING:tensorflow:From /usr/local/lib/python3.6/dist-packages/tensorflow/python/ops/math_ops.py:3066: to_int32 (from tensorflow.python.ops.math_ops) is deprecated and will be removed in a future version.\n",
      "Instructions for updating:\n",
      "Use tf.cast instead.\n",
      "0.11619105613675626\n",
      "5.619178469977096\n",
      "0.013028964485592338\n",
      "0.19321582836035428\n",
      "0.011346003853062111\n",
      "0.05925008549813936\n",
      "0.10215573522171252\n",
      "0.24690535033832525\n",
      "0.24863809803671888\n",
      "1.35387746380064\n",
      "0.09064723868347126\n",
      "0.020502062290479982\n",
      "0.07697478576354654\n",
      "0.01912716495029737\n",
      "0.05776587683613474\n",
      "0.1388508297241488\n",
      "3.961897505019868\n",
      "0.00969967531289079\n",
      "0.25896600872448544\n",
      "0.0048514502690463306\n",
      "0.4352794756777953\n",
      "0.11537295130906176\n",
      "0.41506956590551586\n",
      "0.11485983681014239\n",
      "0.365907313555916\n",
      "0.012175095931125082\n",
      "0.010287290008243192\n",
      "0.07190486053274475\n",
      "0.033726361601896675\n",
      "0.18309165116749454\n",
      "0.15679009379723266\n",
      "7.799436716079213\n",
      "0.029772289662950615\n",
      "0.3583858659187502\n",
      "0.026689569960119792\n",
      "0.6036562834285075\n",
      "0.12491727084561144\n",
      "0.48733130304764444\n",
      "0.21912200354196884\n",
      "0.3839539033320555\n",
      "0.012048378092913608\n",
      "0.01090711562153716\n",
      "0.6412612603694369\n",
      "0.04027334713609279\n",
      "0.3077863339247596\n",
      "0.14930966568096768\n",
      "9.015330435366879\n",
      "0.03804857489981624\n",
      "0.2101527784545884\n",
      "0.007622008553889514\n",
      "0.37697550176271744\n",
      "0.4592010003190416\n",
      "0.29602810990659545\n",
      "0.08951213868745977\n",
      "0.7032045192415998\n",
      "0.020539146597063986\n",
      "0.013683436020985963\n",
      "0.9923399103260387\n",
      "0.043172359577331676\n",
      "0.28025794737669785\n"
     ]
    }
   ],
   "source": [
    "from sklearn.metrics import mean_squared_error\n",
    "import os\n",
    "import pandas as pd\n",
    "\n",
    "baseFolder = \"drive/My Drive/ziknet-trends-rolling/models/LSTM-NN\"\n",
    "\n",
    "model = modelUtilities.LSTM_NN_Model()\n",
    "modelName = \"LSTM-NN\"\n",
    "\n",
    "countries = [\"Brazil\", \"Colombia\", \"Mexico\"]\n",
    "testWeeks = 52\n",
    "for weeksAhead in range(1, 5):\n",
    "  for country in countries:\n",
    "    \n",
    "    stateDatasets = dataUtilities.loadData(country)\n",
    "    \n",
    "    for state in stateDatasets:\n",
    "      \n",
    "      x, y = dataUtilities.getXY(stateDatasets[state], state, weeksAhead)\n",
    "      xDim1 = x[0].shape[0]\n",
    "      xDim2 = x[0].shape[1]\n",
    "\n",
    "      splitIndex = len(x) - 52\n",
    "\n",
    "      train_X = x[:splitIndex]\n",
    "      train_y = y[:splitIndex]\n",
    "\n",
    "      test_y = y[splitIndex:]\n",
    "      outDataset = pd.DataFrame()\n",
    "      outDataset[\"Observerd\"] = test_y\n",
    "      \n",
    "\n",
    "      model.fit(\n",
    "          train_X,\n",
    "          train_y,\n",
    "          epochs=200,\n",
    "          batch_size=32,\n",
    "          verbose=0,\n",
    "          shuffle=False)\n",
    "\n",
    "      predicted_y_history = []\n",
    "      while(splitIndex < len(y)):\n",
    "        predicted_y = \\\n",
    "          model.predict(x[splitIndex].reshape(1, xDim1, xDim2))[0]\n",
    "\n",
    "        model.fit(\n",
    "            x[:splitIndex+1],\n",
    "            y[:splitIndex+1],\n",
    "            epochs=1,\n",
    "            batch_size=32,\n",
    "            verbose=0,\n",
    "            shuffle=False)\n",
    "\n",
    "        predicted_y_history.append(predicted_y[0])\n",
    "        splitIndex += 1\n",
    "\n",
    "      outDataset[modelName] = predicted_y_history\n",
    "\n",
    "      print(mean_squared_error(test_y, predicted_y_history))\n",
    "        \n",
    "#     Save Dataset\n",
    "    if(not os.path.isdir(\"{}/{}\".format(baseFolder, country))):\n",
    "      os.mkdir(\"{}/{}\".format(baseFolder, country))\n",
    "    if(not os.path.isdir(\"{}/{}/{}\".format(baseFolder, country, state))):\n",
    "      os.mkdir(\"{}/{}/{}\".format(baseFolder, country, state))\n",
    "      \n",
    "    outDataset.to_csv(\"{}/{}/{}/{}Weeks.csv\".format(baseFolder, country, state, weeksAhead))"
   ]
  }
 ],
 "metadata": {
  "accelerator": "GPU",
  "colab": {
   "collapsed_sections": [],
   "name": "LSTM-NN.ipynb",
   "provenance": [],
   "version": "0.3.2"
  },
  "kernelspec": {
   "display_name": "Python 3",
   "language": "python",
   "name": "python3"
  },
  "language_info": {
   "codemirror_mode": {
    "name": "ipython",
    "version": 3
   },
   "file_extension": ".py",
   "mimetype": "text/x-python",
   "name": "python",
   "nbconvert_exporter": "python",
   "pygments_lexer": "ipython3",
   "version": "3.6.8"
  }
 },
 "nbformat": 4,
 "nbformat_minor": 1
}

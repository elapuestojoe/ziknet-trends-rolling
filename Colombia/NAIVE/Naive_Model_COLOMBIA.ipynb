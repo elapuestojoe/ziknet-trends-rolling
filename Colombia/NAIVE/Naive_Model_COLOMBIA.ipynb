{
 "cells": [
  {
   "cell_type": "code",
   "execution_count": 1,
   "metadata": {},
   "outputs": [],
   "source": [
    "import pandas as pd\n",
    "import matplotlib.pyplot as plt\n",
    "import numpy as np\n",
    "import os"
   ]
  },
  {
   "cell_type": "code",
   "execution_count": 2,
   "metadata": {},
   "outputs": [],
   "source": [
    "dirName = \"../../data/Colombia/processed_data/\"\n",
    "files = os.listdir(dirName)"
   ]
  },
  {
   "cell_type": "code",
   "execution_count": 3,
   "metadata": {},
   "outputs": [],
   "source": [
    "datasets = {}\n",
    "for file in files:\n",
    "    datasets[file] = pd.read_csv(dirName + file)"
   ]
  },
  {
   "cell_type": "code",
   "execution_count": 4,
   "metadata": {},
   "outputs": [
    {
     "name": "stdout",
     "output_type": "stream",
     "text": [
      "huila_2016-2017.csv\n",
      "Week1 17.423076923076923\n",
      "Week2 19.76923076923077\n",
      "Week3 33.53846153846154\n",
      "Week4 34.30769230769231\n",
      "santander_2016-2017.csv\n",
      "Week1 42.94230769230769\n",
      "Week2 56.46153846153846\n",
      "Week3 58.34615384615385\n",
      "Week4 49.98076923076923\n",
      "santander_norte_2016-2017.csv\n",
      "Week1 58.51923076923077\n",
      "Week2 38.30769230769231\n",
      "Week3 62.38461538461539\n",
      "Week4 52.17307692307692\n",
      "tolima_2016-2017.csv\n",
      "Week1 22.21153846153846\n",
      "Week2 18.134615384615383\n",
      "Week3 38.32692307692308\n",
      "Week4 24.865384615384617\n",
      "valle_cauca_2016-2017.csv\n",
      "Week1 789.8269230769231\n",
      "Week2 575.2307692307693\n",
      "Week3 741.6730769230769\n",
      "Week4 886.2115384615385\n"
     ]
    }
   ],
   "source": [
    "from sklearn.metrics import mean_squared_error\n",
    "for file in datasets:\n",
    "    print(file)\n",
    "    cases = datasets[file][\"Cases\"]\n",
    "    out = pd.DataFrame()\n",
    "    \n",
    "    out[\"Observed\"] = cases[52:]\n",
    "    for i in range(1, 5):\n",
    "        pred = cases[52-i:-i]\n",
    "        out[\"Naive-Week{}\".format(i)] = pred.values\n",
    "        print(\"Week{}\".format(i), mean_squared_error(out[\"Observed\"], pred))\n",
    "    out.to_csv(file)"
   ]
  }
 ],
 "metadata": {
  "kernelspec": {
   "display_name": "Python 3",
   "language": "python",
   "name": "python3"
  },
  "language_info": {
   "codemirror_mode": {
    "name": "ipython",
    "version": 3
   },
   "file_extension": ".py",
   "mimetype": "text/x-python",
   "name": "python",
   "nbconvert_exporter": "python",
   "pygments_lexer": "ipython3",
   "version": "3.6.8"
  }
 },
 "nbformat": 4,
 "nbformat_minor": 2
}

{
 "cells": [
  {
   "cell_type": "code",
   "execution_count": 35,
   "metadata": {},
   "outputs": [],
   "source": [
    "import pandas as pd\n",
    "import matplotlib.pyplot as plt\n",
    "import numpy as np\n",
    "from sklearn.metrics import mean_squared_error"
   ]
  },
  {
   "cell_type": "code",
   "execution_count": 14,
   "metadata": {},
   "outputs": [
    {
     "name": "stdout",
     "output_type": "stream",
     "text": [
      "         Date  Searches  Cases\n",
      "0  02/01/2016       100      9\n",
      "1  09/01/2016       100      0\n",
      "2  16/01/2016       100      3\n",
      "3  23/01/2016        55     11\n",
      "4  30/01/2016        98     11\n",
      "Number of observations:  104\n"
     ]
    }
   ],
   "source": [
    "dataset = pd.read_csv(\"C:\\\\Users\\\\kevin\\\\ziknet-trends-rolling\\\\data\\\\Mexico\\\\processed_data\\\\Chiapas_2016-2017.csv\")\n",
    "print(dataset.head())\n",
    "print(\"Number of observations: \", len(dataset))"
   ]
  },
  {
   "cell_type": "code",
   "execution_count": 12,
   "metadata": {},
   "outputs": [],
   "source": [
    "def series_to_supervised(df, outputColumn, n_in=1, n_out=1, dropnan=True):\n",
    "  n_vars = df.shape[1]\n",
    "  cols, names = list(), list()\n",
    "  # input sequence (t-n, ... t-1)\n",
    "  for i in range(n_in, 0, -1):\n",
    "    cols.append(df.shift(i))\n",
    "    names += [(\"{}(t-{})\".format(col, i)) for col in df.columns]\n",
    "  \n",
    "  # Append next observation[outputColumn] at n_out obs\n",
    "  cols.append(df[outputColumn].shift(-n_out+1))\n",
    "  names+=[outputColumn + \"(t+{})\".format(n_out-1)]\n",
    "\n",
    "  # put it all together\n",
    "  agg = pd.concat(cols, axis=1)\n",
    "  agg.columns = names\n",
    "  # drop rows with NaN values\n",
    "  if dropnan:\n",
    "    agg.dropna(inplace=True)\n",
    "  return agg"
   ]
  },
  {
   "cell_type": "code",
   "execution_count": 16,
   "metadata": {},
   "outputs": [],
   "source": [
    "def getXY(dataset, state, weeksAhead):\n",
    "    n_features = dataset.shape[1]\n",
    "    \n",
    "    n_weeks = 4\n",
    "    reframed = series_to_supervised(dataset, \"Cases\",  n_weeks, weeksAhead)\n",
    "    values = reframed.values\n",
    "    \n",
    "    totalFeatures = values.shape[1]\n",
    "\n",
    "    x,y = values[:, :totalFeatures-1], values[:, totalFeatures-1] #Y is the last column, X is all the previous columns \n",
    "\n",
    "    x = x.reshape((x.shape[0], n_weeks, n_features)) # Reshape as 3-D\n",
    "    return x, y"
   ]
  },
  {
   "cell_type": "code",
   "execution_count": 25,
   "metadata": {},
   "outputs": [
    {
     "name": "stderr",
     "output_type": "stream",
     "text": [
      "Using TensorFlow backend.\n"
     ]
    }
   ],
   "source": [
    "import tensorflow as tf\n",
    "from keras.models import Model\n",
    "from keras.layers import Input, Flatten, Dense, LSTM\n",
    "from keras.optimizers import Adam\n",
    "from keras.layers.merge import concatenate\n",
    "\n",
    "def LSTM_NN_Model():\n",
    "    input_layer = Input(shape=(4,2))\n",
    "    b1_out = LSTM(64, return_sequences=False)(input_layer)\n",
    "\n",
    "    b2_out = Dense(32, activation=\"relu\", kernel_regularizer=\"l2\")(input_layer)\n",
    "    b2_out = Flatten()(b2_out)\n",
    "\n",
    "    concatenated = concatenate([b1_out, b2_out])\n",
    "    out = Dense(4, activation=\"relu\", kernel_regularizer=\"l2\")(concatenated)\n",
    "    out = Dense(4, activation=\"relu\", kernel_regularizer=\"l2\")(out)\n",
    "    # out = Dense(1, activation=\"linear\", kernel_constraint=non_neg(), name='output_layer')(out)\n",
    "    out = Dense(1, activation=\"linear\", name='output_layer')(out)\n",
    "\n",
    "    model = Model([input_layer], out)\n",
    "    model.compile(loss=[\"mse\"], optimizer=Adam(0.0001), metrics=[\"mae\"])\n",
    "\n",
    "    return model"
   ]
  },
  {
   "cell_type": "code",
   "execution_count": 22,
   "metadata": {},
   "outputs": [],
   "source": [
    "x, y = getXY(dataset[[\"Searches\", \"Cases\"]], \"\", 4)"
   ]
  },
  {
   "cell_type": "code",
   "execution_count": 26,
   "metadata": {},
   "outputs": [],
   "source": [
    "model = LSTM_NN_Model()"
   ]
  },
  {
   "cell_type": "code",
   "execution_count": 37,
   "metadata": {},
   "outputs": [
    {
     "name": "stdout",
     "output_type": "stream",
     "text": [
      "0.2618866904392326\n",
      "    Observerd  PREDICTED\n",
      "0         0.0   0.234046\n",
      "1         0.0   0.234254\n",
      "2         0.0   0.234461\n",
      "3         0.0   0.234665\n",
      "4         0.0   0.104889\n",
      "5         0.0   0.235063\n",
      "6         0.0   0.235257\n",
      "7         0.0   0.111564\n",
      "8         0.0  -0.074355\n",
      "9         0.0  -0.262311\n",
      "10        0.0  -0.087333\n",
      "11        0.0   0.236171\n",
      "12        0.0  -0.364461\n",
      "13        0.0  -0.149571\n",
      "14        0.0  -0.141648\n",
      "15        0.0   0.236848\n",
      "16        0.0   0.237011\n",
      "17        0.0   0.237172\n",
      "18        0.0   0.093658\n",
      "19        0.0   0.237487\n",
      "20        0.0   0.092985\n",
      "21        0.0   0.237912\n",
      "22        0.0  -0.617185\n",
      "23        0.0  -0.382445\n",
      "24        0.0  -0.398536\n",
      "25        0.0   0.238609\n",
      "26        0.0   0.238769\n",
      "27        0.0  -0.056774\n",
      "28        0.0   0.239080\n",
      "29        3.0   0.239234\n",
      "30        0.0   0.239386\n",
      "31        2.0   0.239538\n",
      "32        0.0   0.239690\n",
      "33        0.0   0.239842\n",
      "34        0.0   0.239994\n",
      "35        0.0   0.240146\n",
      "36        0.0   0.122759\n",
      "37        0.0  -0.140281\n",
      "38        0.0   0.078534\n",
      "39        0.0   0.240752\n",
      "40        0.0   0.240903\n",
      "41        0.0   0.241055\n",
      "42        0.0   0.203794\n",
      "43        0.0   0.241358\n",
      "44        0.0   0.241510\n",
      "45        0.0   0.241661\n",
      "46        0.0   0.241813\n",
      "47        0.0   0.241965\n",
      "48        0.0   0.242116\n",
      "49        0.0   0.242268\n",
      "50        0.0   0.242420\n",
      "51        0.0   0.242572\n"
     ]
    }
   ],
   "source": [
    "xDim1 = x[0].shape[0]\n",
    "xDim2 = x[0].shape[1]\n",
    "splitIndex = len(x) - 52\n",
    "\n",
    "train_X = x[:splitIndex]\n",
    "train_y = y[:splitIndex]\n",
    "\n",
    "test_y = y[splitIndex:]\n",
    "outDataset = pd.DataFrame()\n",
    "outDataset[\"Observerd\"] = test_y\n",
    "\n",
    "model.fit(\n",
    "    train_X,\n",
    "    train_y,\n",
    "    epochs=200,\n",
    "    batch_size=32,\n",
    "    verbose=0,\n",
    "    shuffle=False)\n",
    "\n",
    "predicted_y_history = []\n",
    "\n",
    "while(splitIndex < len(y)):\n",
    "    predicted_y = \\\n",
    "        model.predict(x[splitIndex].reshape(1, xDim1, xDim2))[0]\n",
    "\n",
    "    model.fit(\n",
    "        x[:splitIndex+1],\n",
    "        y[:splitIndex+1],\n",
    "        epochs=1,\n",
    "        batch_size=32,\n",
    "        verbose=0,\n",
    "        shuffle=False)\n",
    "\n",
    "    predicted_y_history.append(predicted_y[0])\n",
    "    splitIndex += 1\n",
    "    \n",
    "outDataset[\"PREDICTED\"] = predicted_y_history\n",
    "print(mean_squared_error(test_y, predicted_y_history))\n",
    "print(outDataset)"
   ]
  }
 ],
 "metadata": {
  "kernelspec": {
   "display_name": "Python 3",
   "language": "python",
   "name": "python3"
  },
  "language_info": {
   "codemirror_mode": {
    "name": "ipython",
    "version": 3
   },
   "file_extension": ".py",
   "mimetype": "text/x-python",
   "name": "python",
   "nbconvert_exporter": "python",
   "pygments_lexer": "ipython3",
   "version": "3.6.8"
  }
 },
 "nbformat": 4,
 "nbformat_minor": 2
}

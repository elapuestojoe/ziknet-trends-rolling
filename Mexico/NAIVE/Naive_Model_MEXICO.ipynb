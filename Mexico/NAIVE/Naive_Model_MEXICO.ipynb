{
 "cells": [
  {
   "cell_type": "code",
   "execution_count": 1,
   "metadata": {},
   "outputs": [],
   "source": [
    "import pandas as pd\n",
    "import matplotlib.pyplot as plt\n",
    "import numpy as np\n",
    "import os"
   ]
  },
  {
   "cell_type": "code",
   "execution_count": 2,
   "metadata": {},
   "outputs": [],
   "source": [
    "dirName = \"../../data/Mexico/processed_data/\"\n",
    "files = os.listdir(dirName)"
   ]
  },
  {
   "cell_type": "code",
   "execution_count": 3,
   "metadata": {},
   "outputs": [],
   "source": [
    "datasets = {}\n",
    "for file in files:\n",
    "    datasets[file] = pd.read_csv(dirName + file)"
   ]
  },
  {
   "cell_type": "code",
   "execution_count": 4,
   "metadata": {},
   "outputs": [
    {
     "name": "stdout",
     "output_type": "stream",
     "text": [
      "Chiapas_2016-2017.csv\n",
      "Week1 0.5\n",
      "Week2 0.2692307692307692\n",
      "Week3 0.5192307692307693\n",
      "Week4 0.5192307692307693\n",
      "Guerrero_2016-2017.csv\n",
      "Week1 1.3846153846153846\n",
      "Week2 1.1730769230769231\n",
      "Week3 1.2884615384615385\n",
      "Week4 0.9807692307692307\n",
      "NuevoLeon_2016-2017.csv\n",
      "Week1 10.153846153846153\n",
      "Week2 16.73076923076923\n",
      "Week3 1761.673076923077\n",
      "Week4 1782.6538461538462\n",
      "Veracruz_2016-2017.csv\n",
      "Week1 202.67307692307693\n",
      "Week2 198.6346153846154\n",
      "Week3 171.57692307692307\n",
      "Week4 189.55769230769232\n",
      "Yucatan_2016-2017.csv\n",
      "Week1 5.346153846153846\n",
      "Week2 6.538461538461538\n",
      "Week3 19.153846153846153\n",
      "Week4 22.25\n"
     ]
    }
   ],
   "source": [
    "from sklearn.metrics import mean_squared_error\n",
    "for file in datasets:\n",
    "    print(file)\n",
    "    cases = datasets[file][\"Cases\"]\n",
    "    out = pd.DataFrame()\n",
    "    \n",
    "    out[\"Observed\"] = cases[52:]\n",
    "    for i in range(1, 5):\n",
    "        pred = cases[52-i:-i]\n",
    "        out[\"Naive-Week{}\".format(i)] = pred.values\n",
    "        print(\"Week{}\".format(i), mean_squared_error(out[\"Observed\"], pred))\n",
    "    out.to_csv(file)"
   ]
  }
 ],
 "metadata": {
  "kernelspec": {
   "display_name": "Python 3",
   "language": "python",
   "name": "python3"
  },
  "language_info": {
   "codemirror_mode": {
    "name": "ipython",
    "version": 3
   },
   "file_extension": ".py",
   "mimetype": "text/x-python",
   "name": "python",
   "nbconvert_exporter": "python",
   "pygments_lexer": "ipython3",
   "version": "3.6.8"
  }
 },
 "nbformat": 4,
 "nbformat_minor": 2
}

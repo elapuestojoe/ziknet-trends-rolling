{
 "cells": [
  {
   "cell_type": "code",
   "execution_count": 2,
   "metadata": {},
   "outputs": [],
   "source": [
    "import pandas as pd\n",
    "import matplotlib.pyplot as plt\n",
    "import numpy as np\n",
    "import os"
   ]
  },
  {
   "cell_type": "code",
   "execution_count": 5,
   "metadata": {},
   "outputs": [],
   "source": [
    "dirName = \"../../data/Brazil/processed_data/\"\n",
    "files = os.listdir(dirName)"
   ]
  },
  {
   "cell_type": "code",
   "execution_count": 7,
   "metadata": {},
   "outputs": [],
   "source": [
    "datasets = {}\n",
    "for file in files:\n",
    "    datasets[file] = pd.read_csv(dirName + file)"
   ]
  },
  {
   "cell_type": "code",
   "execution_count": 16,
   "metadata": {},
   "outputs": [
    {
     "name": "stdout",
     "output_type": "stream",
     "text": [
      "Bahia_2016-2017.csv\n",
      "Week1 611.9335765390911\n",
      "Week2 1738.98964385405\n",
      "Week3 2652.825278666138\n",
      "Week4 3115.976126086566\n",
      "MatoGrosso_2016-2017.csv\n",
      "Week1 613.5157091524735\n",
      "Week2 1992.0459608323877\n",
      "Week3 3805.349907945647\n",
      "Week4 5639.384271586274\n",
      "MinasGerais_2016-2017.csv\n",
      "Week1 90.4302279538058\n",
      "Week2 279.821704578247\n",
      "Week3 452.44020734278547\n",
      "Week4 547.5258007413069\n",
      "RioDeJaneiro_2016-2017.csv\n",
      "Week1 2424.949726594221\n",
      "Week2 7504.228208709128\n",
      "Week3 11476.689742756766\n",
      "Week4 12625.277664064213\n",
      "SaoPaulo_2016-2017.csv\n",
      "Week1 34.4448689978435\n",
      "Week2 102.04021039518032\n",
      "Week3 159.61248842453918\n",
      "Week4 198.32808388358268\n"
     ]
    }
   ],
   "source": [
    "from sklearn.metrics import mean_squared_error\n",
    "for file in datasets:\n",
    "    print(file)\n",
    "    cases = datasets[file][\"Cases\"]\n",
    "    out = pd.DataFrame()\n",
    "    \n",
    "    out[\"Observed\"] = cases[52:]\n",
    "    for i in range(1, 5):\n",
    "        pred = cases[52-i:-i]\n",
    "        out[\"Naive-Week{}\".format(i)] = pred.values\n",
    "        print(\"Week{}\".format(i), mean_squared_error(out[\"Observed\"], pred))\n",
    "    out.to_csv(file)"
   ]
  }
 ],
 "metadata": {
  "kernelspec": {
   "display_name": "Python 3",
   "language": "python",
   "name": "python3"
  },
  "language_info": {
   "codemirror_mode": {
    "name": "ipython",
    "version": 3
   },
   "file_extension": ".py",
   "mimetype": "text/x-python",
   "name": "python",
   "nbconvert_exporter": "python",
   "pygments_lexer": "ipython3",
   "version": "3.6.8"
  }
 },
 "nbformat": 4,
 "nbformat_minor": 2
}

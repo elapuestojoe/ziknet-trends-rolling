{
 "cells": [
  {
   "cell_type": "code",
   "execution_count": 1,
   "metadata": {},
   "outputs": [],
   "source": [
    "import pandas as pd\n",
    "import matplotlib.pyplot as plt\n",
    "import numpy as np\n",
    "from sklearn.metrics import mean_squared_error\n",
    "import os"
   ]
  },
  {
   "cell_type": "code",
   "execution_count": 2,
   "metadata": {},
   "outputs": [],
   "source": [
    "files = os.listdir(\"C:\\\\Users\\\\kevin\\\\ziknet-trends-rolling\\\\data\\\\Brazil\\\\processed_data\\\\\")\n",
    "weeks_ahead = 3"
   ]
  },
  {
   "cell_type": "code",
   "execution_count": 3,
   "metadata": {},
   "outputs": [
    {
     "name": "stdout",
     "output_type": "stream",
     "text": [
      "Bahia_2016-2017.csv\n",
      "         Date  Searches        Cases\n",
      "0  04/01/2016        20   316.198743\n",
      "1  11/01/2016        28  1053.232914\n",
      "2  18/01/2016        22  1790.267086\n",
      "3  25/01/2016        40  2527.301257\n",
      "4  01/02/2016        45  3264.335428\n",
      "Number of observations:  104\n",
      "MatoGrosso_2016-2017.csv\n",
      "         Date  Searches        Cases\n",
      "0  04/01/2016       100  1455.781452\n",
      "1  11/01/2016       100  1676.927151\n",
      "2  18/01/2016       100  1898.072849\n",
      "3  25/01/2016       100  2119.218548\n",
      "4  01/02/2016        91  2340.364247\n",
      "Number of observations:  104\n",
      "MinasGerais_2016-2017.csv\n",
      "         Date  Searches       Cases\n",
      "0  04/01/2016        16 -139.037456\n",
      "1  11/01/2016        23   70.654181\n",
      "2  18/01/2016        36  280.345819\n",
      "3  25/01/2016        53  490.037456\n",
      "4  01/02/2016        66  699.729093\n",
      "Number of observations:  104\n",
      "RioDeJaneiro_2016-2017.csv\n",
      "         Date  Searches        Cases\n",
      "0  04/01/2016        50  3123.170605\n",
      "1  11/01/2016        64  3387.890202\n",
      "2  18/01/2016        70  3652.609798\n",
      "3  25/01/2016        89  3917.329395\n",
      "4  01/02/2016        79  4182.048992\n",
      "Number of observations:  104\n",
      "SaoPaulo_2016-2017.csv\n",
      "         Date  Searches      Cases\n",
      "0  04/01/2016        14   20.91913\n",
      "1  11/01/2016        19   59.13971\n",
      "2  18/01/2016        26   97.36029\n",
      "3  25/01/2016        48  135.58087\n",
      "4  01/02/2016        50  173.80145\n",
      "Number of observations:  104\n"
     ]
    }
   ],
   "source": [
    "datasets = {}\n",
    "for file in files:\n",
    "    datasets[file] = pd.read_csv(\"C:\\\\Users\\\\kevin\\\\ziknet-trends-rolling\\\\data\\\\Brazil\\\\processed_data\\\\{}\".format(file))\n",
    "    print(file)\n",
    "    print(datasets[file].head())\n",
    "    print(\"Number of observations: \", len(datasets[file]))"
   ]
  },
  {
   "cell_type": "code",
   "execution_count": 4,
   "metadata": {},
   "outputs": [],
   "source": [
    "def series_to_supervised(df, outputColumn, n_in=1, n_out=1, dropnan=True):\n",
    "    n_vars = df.shape[1]\n",
    "    cols, names = list(), list()\n",
    "    # input sequence (t-n, ... t-1)\n",
    "    for i in range(n_in, 0, -1):\n",
    "        cols.append(df.shift(i))\n",
    "        names += [(\"{}(t-{})\".format(col, i)) for col in df.columns]\n",
    "\n",
    "    # Append next observation[outputColumn] at n_out obs\n",
    "    cols.append(df[outputColumn].shift(-n_out+1))\n",
    "    names+=[outputColumn + \"(t+{})\".format(n_out-1)]\n",
    "\n",
    "    # put it all together\n",
    "    agg = pd.concat(cols, axis=1)\n",
    "    agg.columns = names\n",
    "    # drop rows with NaN values\n",
    "    if dropnan:\n",
    "        agg.dropna(inplace=True)\n",
    "    return agg"
   ]
  },
  {
   "cell_type": "code",
   "execution_count": 5,
   "metadata": {},
   "outputs": [],
   "source": [
    "def getXY(dataset, state, weeksAhead):\n",
    "    n_features = dataset.shape[1]\n",
    "    \n",
    "    n_weeks = 4\n",
    "    reframed = series_to_supervised(dataset, \"Cases\",  n_weeks, weeksAhead)\n",
    "    values = reframed.values\n",
    "    \n",
    "    totalFeatures = values.shape[1]\n",
    "\n",
    "    x,y = values[:, :totalFeatures-1], values[:, totalFeatures-1] #Y is the last column, X is all the previous columns \n",
    "\n",
    "    x = x.reshape((x.shape[0], n_weeks, n_features)) # Reshape as 3-D\n",
    "    return x, y"
   ]
  },
  {
   "cell_type": "code",
   "execution_count": 6,
   "metadata": {},
   "outputs": [
    {
     "name": "stderr",
     "output_type": "stream",
     "text": [
      "Using TensorFlow backend.\n"
     ]
    }
   ],
   "source": [
    "import tensorflow as tf\n",
    "from keras.models import Model\n",
    "from keras.layers import Input, Flatten, Dense, LSTM\n",
    "from keras.optimizers import Adam\n",
    "from keras.layers.merge import concatenate\n",
    "\n",
    "def LSTM_NN_Model():\n",
    "    input_layer = Input(shape=(4,2))\n",
    "    b1_out = LSTM(64, return_sequences=False)(input_layer)\n",
    "\n",
    "    b2_out = Dense(32, activation=\"relu\", kernel_regularizer=\"l2\")(input_layer)\n",
    "    b2_out = Flatten()(b2_out)\n",
    "\n",
    "    concatenated = concatenate([b1_out, b2_out])\n",
    "    out = Dense(4, activation=\"relu\", kernel_regularizer=\"l2\")(concatenated)\n",
    "    out = Dense(4, activation=\"relu\", kernel_regularizer=\"l2\")(out)\n",
    "    # out = Dense(1, activation=\"linear\", kernel_constraint=non_neg(), name='output_layer')(out)\n",
    "    out = Dense(1, activation=\"linear\", name='output_layer')(out)\n",
    "\n",
    "    model = Model([input_layer], out)\n",
    "    model.compile(loss=[\"mse\"], optimizer=Adam(0.0001), metrics=[\"mae\"])\n",
    "\n",
    "    return model"
   ]
  },
  {
   "cell_type": "code",
   "execution_count": 7,
   "metadata": {},
   "outputs": [
    {
     "name": "stdout",
     "output_type": "stream",
     "text": [
      "Bahia_2016-2017.csv RMSE: 1840.6563177792336\n",
      "MatoGrosso_2016-2017.csv RMSE: 6382.556362647708\n",
      "MinasGerais_2016-2017.csv RMSE: 515.9185777977034\n",
      "RioDeJaneiro_2016-2017.csv RMSE: 6526.937578130544\n",
      "SaoPaulo_2016-2017.csv RMSE: 239.36991364772882\n"
     ]
    }
   ],
   "source": [
    "for file in datasets:\n",
    "    dataset = datasets[file]\n",
    "    x, y = getXY(dataset[[\"Searches\", \"Cases\"]], \"\", weeks_ahead)\n",
    "    model = LSTM_NN_Model()\n",
    "    \n",
    "    xDim1 = x[0].shape[0]\n",
    "    xDim2 = x[0].shape[1]\n",
    "    \n",
    "    splitIndex = len(x) - 52\n",
    "\n",
    "    train_X = x[:splitIndex]\n",
    "    train_y = y[:splitIndex]\n",
    "\n",
    "    test_y = y[splitIndex:]\n",
    "    outDataset = pd.DataFrame()\n",
    "    outDataset[\"Observerd\"] = test_y\n",
    "\n",
    "    model.fit(\n",
    "        train_X,\n",
    "        train_y,\n",
    "        epochs=200,\n",
    "        batch_size=32,\n",
    "        verbose=0,\n",
    "        shuffle=False)\n",
    "\n",
    "    predicted_y_history = []\n",
    "\n",
    "    while(splitIndex < len(y)):\n",
    "        predicted_y = \\\n",
    "            model.predict(x[splitIndex].reshape(1, xDim1, xDim2))[0]\n",
    "\n",
    "        model.fit(\n",
    "            x[:splitIndex+1],\n",
    "            y[:splitIndex+1],\n",
    "            epochs=1,\n",
    "            batch_size=32,\n",
    "            verbose=0,\n",
    "            shuffle=False)\n",
    "\n",
    "        predicted_y_history.append(predicted_y[0])\n",
    "        splitIndex += 1\n",
    "\n",
    "    outDataset[\"PREDICTED\"] = predicted_y_history\n",
    "    print(\"{} RMSE: {}\".format(file, mean_squared_error(test_y, predicted_y_history)))\n",
    "    outDataset.to_csv(file)"
   ]
  }
 ],
 "metadata": {
  "kernelspec": {
   "display_name": "Python 3",
   "language": "python",
   "name": "python3"
  },
  "language_info": {
   "codemirror_mode": {
    "name": "ipython",
    "version": 3
   },
   "file_extension": ".py",
   "mimetype": "text/x-python",
   "name": "python",
   "nbconvert_exporter": "python",
   "pygments_lexer": "ipython3",
   "version": "3.6.8"
  }
 },
 "nbformat": 4,
 "nbformat_minor": 2
}

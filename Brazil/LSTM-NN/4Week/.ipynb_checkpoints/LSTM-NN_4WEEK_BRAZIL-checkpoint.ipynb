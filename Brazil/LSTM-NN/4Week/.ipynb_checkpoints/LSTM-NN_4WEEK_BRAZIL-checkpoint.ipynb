{
 "cells": [
  {
   "cell_type": "code",
   "execution_count": 1,
   "metadata": {
    "colab": {
     "base_uri": "https://localhost:8080/",
     "height": 55
    },
    "colab_type": "code",
    "executionInfo": {
     "elapsed": 457,
     "status": "ok",
     "timestamp": 1550825081898,
     "user": {
      "displayName": "Kevin Islas Abud",
      "photoUrl": "",
      "userId": "17803260883912783595"
     },
     "user_tz": 360
    },
    "id": "1-a4gpymYFt1",
    "outputId": "49906b90-96be-4924-d47e-e1a5ebaaa78a"
   },
   "outputs": [
    {
     "name": "stdout",
     "output_type": "stream",
     "text": [
      "Drive already mounted at /content/drive; to attempt to forcibly remount, call drive.mount(\"/content/drive\", force_remount=True).\n"
     ]
    }
   ],
   "source": [
    "from google.colab import drive\n",
    "drive.mount('/content/drive')"
   ]
  },
  {
   "cell_type": "code",
   "execution_count": 0,
   "metadata": {
    "colab": {},
    "colab_type": "code",
    "id": "U5sCFFw-YD9h"
   },
   "outputs": [],
   "source": [
    "import pandas as pd\n",
    "import matplotlib.pyplot as plt\n",
    "import numpy as np\n",
    "from sklearn.metrics import mean_squared_error\n",
    "import os"
   ]
  },
  {
   "cell_type": "code",
   "execution_count": 0,
   "metadata": {
    "colab": {},
    "colab_type": "code",
    "id": "9U40j2LLYD94"
   },
   "outputs": [],
   "source": [
    "files = os.listdir(\"drive/My Drive/ziknet-trends-rolling/data/Brazil/processed_data\")\n",
    "weeks_ahead = 4"
   ]
  },
  {
   "cell_type": "code",
   "execution_count": 4,
   "metadata": {
    "colab": {
     "base_uri": "https://localhost:8080/",
     "height": 752
    },
    "colab_type": "code",
    "executionInfo": {
     "elapsed": 1037,
     "status": "ok",
     "timestamp": 1550825082532,
     "user": {
      "displayName": "Kevin Islas Abud",
      "photoUrl": "",
      "userId": "17803260883912783595"
     },
     "user_tz": 360
    },
    "id": "r5bzQdpJYD-C",
    "outputId": "027bfc0b-af46-4237-e91b-6d03768d836c"
   },
   "outputs": [
    {
     "name": "stdout",
     "output_type": "stream",
     "text": [
      "Bahia_2016-2017.csv\n",
      "           Date  Searches  Cases\n",
      "99   27/11/2017      0.26   19.0\n",
      "100  04/12/2017      0.30   30.0\n",
      "101  11/12/2017      0.09    1.0\n",
      "102  18/12/2017      0.30    3.0\n",
      "103  25/12/2017      0.28   56.0\n",
      "Number of observations:  104\n",
      "MatoGrosso_2016-2017.csv\n",
      "           Date  Searches  Cases\n",
      "99   27/11/2017      0.66    0.0\n",
      "100  04/12/2017      0.00  -25.0\n",
      "101  11/12/2017      0.55   19.0\n",
      "102  18/12/2017      0.00    1.0\n",
      "103  25/12/2017      0.68   -1.0\n",
      "Number of observations:  104\n",
      "MinasGerais_2016-2017.csv\n",
      "           Date  Searches  Cases\n",
      "99   27/11/2017      0.21    3.0\n",
      "100  04/12/2017      0.17    3.0\n",
      "101  11/12/2017      0.09    3.0\n",
      "102  18/12/2017      0.16    9.0\n",
      "103  25/12/2017      0.21    8.0\n",
      "Number of observations:  104\n",
      "RioDeJaneiro_2016-2017.csv\n",
      "           Date  Searches  Cases\n",
      "99   27/11/2017      0.22    0.0\n",
      "100  04/12/2017      0.18    0.0\n",
      "101  11/12/2017      0.20    0.0\n",
      "102  18/12/2017      0.19    0.0\n",
      "103  25/12/2017      0.23    0.0\n",
      "Number of observations:  104\n",
      "SaoPaulo_2016-2017.csv\n",
      "           Date  Searches  Cases\n",
      "99   27/11/2017      0.13    9.0\n",
      "100  04/12/2017      0.18    4.0\n",
      "101  11/12/2017      0.17   -4.0\n",
      "102  18/12/2017      0.14    1.0\n",
      "103  25/12/2017      0.29   15.0\n",
      "Number of observations:  104\n"
     ]
    }
   ],
   "source": [
    "datasets = {}\n",
    "for file in files:\n",
    "    datasets[file] = pd.read_csv(\"drive/My Drive/ziknet-trends-rolling/data/Brazil/processed_data/{}\".format(file))\n",
    "    datasets[file][\"Searches\"] /= 100\n",
    "    print(file)\n",
    "    print(datasets[file].tail())\n",
    "    print(\"Number of observations: \", len(datasets[file]))\n"
   ]
  },
  {
   "cell_type": "code",
   "execution_count": 0,
   "metadata": {
    "colab": {},
    "colab_type": "code",
    "id": "IFFatTSvYD-W"
   },
   "outputs": [],
   "source": [
    "def series_to_supervised(df, outputColumn, n_in=1, n_out=1, dropnan=True):\n",
    "    n_vars = df.shape[1]\n",
    "    cols, names = list(), list()\n",
    "    # input sequence (t-n, ... t-1)\n",
    "    for i in range(n_in, 0, -1):\n",
    "        cols.append(df.shift(i))\n",
    "        names += [(\"{}(t-{})\".format(col, i)) for col in df.columns]\n",
    "\n",
    "    # Append next observation[outputColumn] at n_out obs\n",
    "    cols.append(df[outputColumn].shift(-n_out+1))\n",
    "    names+=[outputColumn + \"(t+{})\".format(n_out-1)]\n",
    "\n",
    "    # put it all together\n",
    "    agg = pd.concat(cols, axis=1)\n",
    "    agg.columns = names\n",
    "    # drop rows with NaN values\n",
    "    if dropnan:\n",
    "        agg.dropna(inplace=True)\n",
    "    return agg"
   ]
  },
  {
   "cell_type": "code",
   "execution_count": 0,
   "metadata": {
    "colab": {},
    "colab_type": "code",
    "id": "pJUSdIX0YD-e"
   },
   "outputs": [],
   "source": [
    "def getXY(dataset, state, weeksAhead):\n",
    "    n_features = dataset.shape[1]\n",
    "    \n",
    "    n_weeks = 4\n",
    "    reframed = series_to_supervised(dataset, \"Cases\",  n_weeks, weeksAhead)\n",
    "    values = reframed.values\n",
    "    \n",
    "    totalFeatures = values.shape[1]\n",
    "\n",
    "    x,y = values[:, :totalFeatures-1], values[:, totalFeatures-1] #Y is the last column, X is all the previous columns \n",
    "\n",
    "    x = x.reshape((x.shape[0], n_weeks, n_features)) # Reshape as 3-D\n",
    "    return x, y"
   ]
  },
  {
   "cell_type": "code",
   "execution_count": 7,
   "metadata": {
    "colab": {
     "base_uri": "https://localhost:8080/",
     "height": 35
    },
    "colab_type": "code",
    "executionInfo": {
     "elapsed": 2747,
     "status": "ok",
     "timestamp": 1550825084285,
     "user": {
      "displayName": "Kevin Islas Abud",
      "photoUrl": "",
      "userId": "17803260883912783595"
     },
     "user_tz": 360
    },
    "id": "3t_QBkP0YD-m",
    "outputId": "b0775c51-4d98-48b4-9bba-89d58172ef5c"
   },
   "outputs": [
    {
     "name": "stderr",
     "output_type": "stream",
     "text": [
      "Using TensorFlow backend.\n"
     ]
    }
   ],
   "source": [
    "import tensorflow as tf\n",
    "from keras.models import Model\n",
    "from keras.layers import Input, Flatten, Dense, LSTM, BatchNormalization\n",
    "from keras.optimizers import Adam\n",
    "from keras.layers.merge import concatenate\n",
    "from keras.constraints import non_neg\n",
    "def LSTM_NN_Model():\n",
    "    input_layer = Input(shape=(4,2))\n",
    "    \n",
    "    \n",
    "    b1_out = LSTM(16, return_sequences=False)(input_layer)\n",
    "\n",
    "    b2_out = Dense(128, activation=\"relu\", kernel_regularizer=\"l2\")(input_layer)\n",
    "    b2_out = Flatten()(b2_out)\n",
    "\n",
    "    concatenated = concatenate([b1_out, b2_out])\n",
    "    \n",
    "    out = Dense(8, activation=\"relu\", kernel_regularizer=\"l2\")(concatenated)\n",
    "    out = Dense(8, activation=\"relu\", kernel_regularizer=\"l2\")(out)\n",
    "#     out = Dense(1, activation=\"linear\", kernel_constraint=non_neg(), name='output_layer')(out)\n",
    "    out = Dense(1, activation=\"linear\", name='output_layer')(out)\n",
    "\n",
    "    model = Model([input_layer], out)\n",
    "    model.compile(loss=[\"mse\"], optimizer=Adam(0.0001), metrics=[\"mae\"])\n",
    "\n",
    "    return model"
   ]
  },
  {
   "cell_type": "code",
   "execution_count": 8,
   "metadata": {
    "colab": {
     "base_uri": "https://localhost:8080/",
     "height": 239
    },
    "colab_type": "code",
    "executionInfo": {
     "elapsed": 1053873,
     "status": "ok",
     "timestamp": 1550826135419,
     "user": {
      "displayName": "Kevin Islas Abud",
      "photoUrl": "",
      "userId": "17803260883912783595"
     },
     "user_tz": 360
    },
    "id": "_JTsCDRcYD-0",
    "outputId": "7cf2da05-d495-4077-e828-dcb08077ad66"
   },
   "outputs": [
    {
     "name": "stdout",
     "output_type": "stream",
     "text": [
      "WARNING:tensorflow:From /usr/local/lib/python3.6/dist-packages/tensorflow/python/framework/op_def_library.py:263: colocate_with (from tensorflow.python.framework.ops) is deprecated and will be removed in a future version.\n",
      "Instructions for updating:\n",
      "Colocations handled automatically by placer.\n",
      "WARNING:tensorflow:From /usr/local/lib/python3.6/dist-packages/tensorflow/python/ops/math_ops.py:3066: to_int32 (from tensorflow.python.ops.math_ops) is deprecated and will be removed in a future version.\n",
      "Instructions for updating:\n",
      "Use tf.cast instead.\n",
      "Bahia_2016-2017.csv MSE: 4818.719923574486\n",
      "MatoGrosso_2016-2017.csv MSE: 3998.399394776539\n",
      "MinasGerais_2016-2017.csv MSE: 624.594848706914\n",
      "RioDeJaneiro_2016-2017.csv MSE: 6953.073077010162\n",
      "SaoPaulo_2016-2017.csv MSE: 299.8678251752336\n"
     ]
    }
   ],
   "source": [
    "for file in datasets:\n",
    "    dataset = datasets[file]\n",
    "    x, y = getXY(dataset[[\"Searches\", \"Cases\"]], \"\", weeks_ahead)\n",
    "    model = LSTM_NN_Model()\n",
    "    \n",
    "    xDim1 = x[0].shape[0]\n",
    "    xDim2 = x[0].shape[1]\n",
    "    \n",
    "    splitIndex = len(x) - 52\n",
    "\n",
    "    train_X = x[:splitIndex]\n",
    "    train_y = y[:splitIndex]\n",
    "\n",
    "    test_y = y[splitIndex:]\n",
    "    outDataset = pd.DataFrame()\n",
    "    outDataset[\"Observerd\"] = test_y\n",
    "\n",
    "    model.fit(\n",
    "        train_X,\n",
    "        train_y,\n",
    "        epochs=200,\n",
    "        batch_size=4,\n",
    "        verbose=0,\n",
    "        shuffle=False)\n",
    "\n",
    "    predicted_y_history = []\n",
    "\n",
    "    while(splitIndex < len(y)):\n",
    "        predicted_y = \\\n",
    "            model.predict(x[splitIndex].reshape(1, xDim1, xDim2))[0]\n",
    "\n",
    "        model.fit(\n",
    "            x[:splitIndex+1],\n",
    "            y[:splitIndex+1],\n",
    "            epochs=40,\n",
    "            batch_size=4,\n",
    "            verbose=0,\n",
    "            shuffle=False)\n",
    "\n",
    "        predicted_y_history.append(predicted_y[0])\n",
    "        splitIndex += 1\n",
    "\n",
    "    outDataset[\"PREDICTED\"] = predicted_y_history\n",
    "    print(\"{} MSE: {}\".format(file, mean_squared_error(test_y, predicted_y_history)))\n",
    "    outDataset.to_csv(file)"
   ]
  }
 ],
 "metadata": {
  "colab": {
   "name": "LSTM-NN_4WEEK_BRAZIL.ipynb",
   "provenance": [],
   "version": "0.3.2"
  },
  "kernelspec": {
   "display_name": "Python 3",
   "language": "python",
   "name": "python3"
  },
  "language_info": {
   "codemirror_mode": {
    "name": "ipython",
    "version": 3
   },
   "file_extension": ".py",
   "mimetype": "text/x-python",
   "name": "python",
   "nbconvert_exporter": "python",
   "pygments_lexer": "ipython3",
   "version": "3.6.8"
  }
 },
 "nbformat": 4,
 "nbformat_minor": 1
}
